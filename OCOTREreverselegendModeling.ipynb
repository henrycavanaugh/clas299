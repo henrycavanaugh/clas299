{
 "cells": [
  {
   "cell_type": "markdown",
   "metadata": {},
   "source": [
    "Step 1, Import Data:"
   ]
  },
  {
   "cell_type": "code",
   "execution_count": 1,
   "metadata": {},
   "outputs": [
    {
     "data": {
      "text/plain": [
       "\u001b[32mimport \u001b[39m\u001b[36mscala.io.Source\n",
       "\u001b[39m\n",
       "\u001b[36mocreCex\u001b[39m: \u001b[32mString\u001b[39m = \u001b[32m\"https://raw.githubusercontent.com/neelsmith/nomisma/master/cex/ocre-cite-ids.cex\"\u001b[39m"
      ]
     },
     "execution_count": 1,
     "metadata": {},
     "output_type": "execute_result"
    }
   ],
   "source": [
    "import scala.io.Source\n",
    "val ocreCex = \"https://raw.githubusercontent.com/neelsmith/nomisma/master/cex/ocre-cite-ids.cex\""
   ]
  },
  {
   "cell_type": "code",
   "execution_count": 3,
   "metadata": {},
   "outputs": [
    {
     "data": {
      "text/plain": [
       "\u001b[36mlines\u001b[39m: \u001b[32mVector\u001b[39m[\u001b[32mString\u001b[39m] = \u001b[33mVector\u001b[39m(\n",
       "  \u001b[32m\"ID#Label#Denomination#Metal#Authority#Mint#Region#ObvType#ObvLegend#ObvPortraitId#RevType#RevLegend#RevPortraitId#StartDate#EndDate\"\u001b[39m,\n",
       "  \u001b[32m\"3.com.43#RIC III Commodus 43#denarius#ar#commodus#rome#italy#Head of Commodus, laureate, right#M COMMODVS ANTONINVS AVG#http://nomisma.org/id/commodus#Roma, helmeted, draped, standing left, holding Victory in extended right hand and vertical spear in left hand#TR P VII IMP V COS III P P#http://collection.britishmuseum.org/id/person-institution/60208#182#182\"\u001b[39m,\n",
       "  \u001b[32m\"9.thes.27B.iii#RIC IX Thessalonica 27B: Subtype iii#ae3#ae#valentinian_i#thessalonica#macedonia#Bust of Valens, pearl-diademed, draped and cuirassed, right#D N VALEN-S P F AVG#http://nomisma.org/id/valens#Victory advancing left, holding wreath and palm#SECVRITAS-REIPVBLICAE#http://collection.britishmuseum.org/id/person-institution/60915#367#375\"\u001b[39m,\n",
       "  \u001b[32m\"9.thes.27B.ii#RIC IX Thessalonica 27B: Subtype ii#ae3#ae#valentinian_i#thessalonica#macedonia#Bust of Valens, pearl-diademed, draped and cuirassed, right#D N VALEN-S P F AVG#http://nomisma.org/id/valens#Victory advancing left, holding wreath and palm#SECVRITAS-REIPVBLICAE#http://collection.britishmuseum.org/id/person-institution/60915#367#375\"\u001b[39m,\n",
       "  \u001b[32m\"4.sa.26d#RIC IV Severus Alexander 26d#aureus#av#severus_alexander#rome#italy#Bust of Severus Alexander, larueate, draped, cuirassed, right#IMP C M AVR SEV ALEXAND AVG#http://nomisma.org/id/severus_alexander#Pax, draped, standing left, holding olive branch in right hand and sceptre in left hand#P M TR P II COS P P#http://collection.britishmuseum.org/id/person-institution/76227#223#223\"\u001b[39m,\n",
       "  \u001b[32m\"9.thes.18A.xxv#RIC IX Thessalonica 18A: Subtype xxv#ae3#ae#valentinian_i#thessalonica#macedonia#Bust of Valentinian I, pearl-diademed, draped and cuirassed, right#D N VALENTINI-ANVS P F AVG#http://nomisma.org/id/valentinian_i#Victory advancing left, holding wreath and palm#SECVRITAS-REIPVBLICAE#http://collection.britishmuseum.org/id/person-institution/60915#364#367\"\u001b[39m,\n",
       "  \u001b[32m\"6.rom.327b#RIC VI Rome 327b#ae2#ae#constantine_i#rome#italy#Bust of Maximinus Daia, laureate, draped, right, seen from behind#IMP MAXIMINVS P F AVG#http://nomisma.org/id/maximinus_daia#Sol, chlamys hanging behind, standing left, raising right hand and holding globe close to body in left hand#SOLI INVIC-TO COMITI#http://collection.britishmuseum.org/id/person-institution/58616#312#313\"\u001b[39m,\n",
       "  \u001b[32m\"6.rom.325#RIC VI Rome 325#ae2#ae#constantine_i#rome#italy#Bust of Constantine I, laureate, cuirassed, right#IMP C CONSTANTINVS P F AVG#http://nomisma.org/id/constantine_i#Sol, chlamys hanging behind, standing left, raising right hand and holding globe close to body in left hand#SOLI INVIC-TO COMITI#http://collection.britishmuseum.org/id/person-institution/58616#312#313\"\u001b[39m,\n",
       "  \u001b[32m\"6.rom.323c#RIC VI Rome 323c#ae2#ae#constantine_i#rome#italy#Bust of Licinius,\u001b[39m..."
      ]
     },
     "execution_count": 3,
     "metadata": {},
     "output_type": "execute_result"
    }
   ],
   "source": [
    "val lines = Source.fromURL(ocreCex).getLines.toVector"
   ]
  },
  {
   "cell_type": "markdown",
   "metadata": {},
   "source": [
    "Step 2, Extract Needed Data (Authority and Reverse Legend)\n",
    "\n",
    "*Step 2a: ID Authorities Within Threshold Number of Coins Minted (800):*"
   ]
  },
  {
   "cell_type": "code",
   "execution_count": 4,
   "metadata": {},
   "outputs": [
    {
     "data": {
      "text/plain": [
       "\u001b[36mdata\u001b[39m: \u001b[32mVector\u001b[39m[\u001b[32mVector\u001b[39m[\u001b[32mString\u001b[39m]] = \u001b[33mVector\u001b[39m(\n",
       "  \u001b[33mVector\u001b[39m(\n",
       "    \u001b[32m\"3.com.43\"\u001b[39m,\n",
       "    \u001b[32m\"RIC III Commodus 43\"\u001b[39m,\n",
       "    \u001b[32m\"denarius\"\u001b[39m,\n",
       "    \u001b[32m\"ar\"\u001b[39m,\n",
       "    \u001b[32m\"commodus\"\u001b[39m,\n",
       "    \u001b[32m\"rome\"\u001b[39m,\n",
       "    \u001b[32m\"italy\"\u001b[39m,\n",
       "    \u001b[32m\"Head of Commodus, laureate, right\"\u001b[39m,\n",
       "    \u001b[32m\"M COMMODVS ANTONINVS AVG\"\u001b[39m,\n",
       "    \u001b[32m\"http://nomisma.org/id/commodus\"\u001b[39m,\n",
       "    \u001b[32m\"Roma, helmeted, draped, standing left, holding Victory in extended right hand and vertical spear in left hand\"\u001b[39m,\n",
       "    \u001b[32m\"TR P VII IMP V COS III P P\"\u001b[39m,\n",
       "    \u001b[32m\"http://collection.britishmuseum.org/id/person-institution/60208\"\u001b[39m,\n",
       "    \u001b[32m\"182\"\u001b[39m,\n",
       "    \u001b[32m\"182\"\u001b[39m\n",
       "  ),\n",
       "  \u001b[33mVector\u001b[39m(\n",
       "    \u001b[32m\"9.thes.27B.iii\"\u001b[39m,\n",
       "    \u001b[32m\"RIC IX Thessalonica 27B: Subtype iii\"\u001b[39m,\n",
       "    \u001b[32m\"ae3\"\u001b[39m,\n",
       "    \u001b[32m\"ae\"\u001b[39m,\n",
       "    \u001b[32m\"valentinian_i\"\u001b[39m,\n",
       "    \u001b[32m\"thessalonica\"\u001b[39m,\n",
       "    \u001b[32m\"macedonia\"\u001b[39m,\n",
       "    \u001b[32m\"Bust of Valens, pearl-diademed, draped and cuirassed, right\"\u001b[39m,\n",
       "    \u001b[32m\"D N VALEN-S P F AVG\"\u001b[39m,\n",
       "    \u001b[32m\"http://nomisma.org/id/valens\"\u001b[39m,\n",
       "    \u001b[32m\"Victory advancing left, holding wreath and palm\"\u001b[39m,\n",
       "    \u001b[32m\"SECVRITAS-REIPVBLICAE\"\u001b[39m,\n",
       "    \u001b[32m\"http://collection.britishmuseum.org/id/person-institution/60915\"\u001b[39m,\n",
       "    \u001b[32m\"367\"\u001b[39m,\n",
       "    \u001b[32m\"375\"\u001b[39m\n",
       "  ),\n",
       "  \u001b[33mVector\u001b[39m(\n",
       "    \u001b[32m\"9.thes.27B.ii\"\u001b[39m,\n",
       "    \u001b[32m\"RIC IX Thessalonica 27B: Subtype ii\"\u001b[39m,\n",
       "..."
      ]
     },
     "execution_count": 4,
     "metadata": {},
     "output_type": "execute_result"
    }
   ],
   "source": [
    "val data = lines.tail.map(ln => ln.split(\"#\").toVector)"
   ]
  },
  {
   "cell_type": "code",
   "execution_count": 5,
   "metadata": {},
   "outputs": [
    {
     "data": {
      "text/plain": [
       "\u001b[36mAuthorities\u001b[39m: \u001b[32mVector\u001b[39m[\u001b[32mString\u001b[39m] = \u001b[33mVector\u001b[39m(\n",
       "  \u001b[32m\"commodus\"\u001b[39m,\n",
       "  \u001b[32m\"valentinian_i\"\u001b[39m,\n",
       "  \u001b[32m\"valentinian_i\"\u001b[39m,\n",
       "  \u001b[32m\"severus_alexander\"\u001b[39m,\n",
       "  \u001b[32m\"valentinian_i\"\u001b[39m,\n",
       "  \u001b[32m\"constantine_i\"\u001b[39m,\n",
       "  \u001b[32m\"constantine_i\"\u001b[39m,\n",
       "  \u001b[32m\"constantine_i\"\u001b[39m,\n",
       "  \u001b[32m\"constantine_i\"\u001b[39m,\n",
       "  \u001b[32m\"constantine_i\"\u001b[39m,\n",
       "  \u001b[32m\"constantine_i\"\u001b[39m,\n",
       "  \u001b[32m\"constantine_i\"\u001b[39m,\n",
       "  \u001b[32m\"valerian\"\u001b[39m,\n",
       "  \u001b[32m\"constantine_i\"\u001b[39m,\n",
       "  \u001b[32m\"constantine_i\"\u001b[39m,\n",
       "  \u001b[32m\"constantine_i\"\u001b[39m,\n",
       "  \u001b[32m\"constantine_i\"\u001b[39m,\n",
       "  \u001b[32m\"trajan_decius\"\u001b[39m,\n",
       "  \u001b[32m\"constantine_i\"\u001b[39m,\n",
       "  \u001b[32m\"constantine_i\"\u001b[39m,\n",
       "  \u001b[32m\"constantine_i\"\u001b[39m,\n",
       "  \u001b[32m\"constantine_i\"\u001b[39m,\n",
       "  \u001b[32m\"constantine_i\"\u001b[39m,\n",
       "  \u001b[32m\"maxentius\"\u001b[39m,\n",
       "  \u001b[32m\"maxentius\"\u001b[39m,\n",
       "  \u001b[32m\"maxentius\"\u001b[39m,\n",
       "  \u001b[32m\"maxentius\"\u001b[39m,\n",
       "  \u001b[32m\"maxentius\"\u001b[39m,\n",
       "  \u001b[32m\"maxentius\"\u001b[39m,\n",
       "  \u001b[32m\"maxentius\"\u001b[39m,\n",
       "  \u001b[32m\"maxentius\"\u001b[39m,\n",
       "  \u001b[32m\"maxentius\"\u001b[39m,\n",
       "  \u001b[32m\"maxentius\"\u001b[39m,\n",
       "  \u001b[32m\"maxentius\"\u001b[39m,\n",
       "  \u001b[32m\"maxentius\"\u001b[39m,\n",
       "  \u001b[32m\"maxentius\"\u001b[39m,\n",
       "  \u001b[32m\"maxentius\"\u001b[39m,\n",
       "  \u001b[32m\"maxentius\"\u001b[39m,\n",
       "...\n",
       "\u001b[36mAuthoritiesGrouped\u001b[39m: \u001b[32mMap\u001b[39m[\u001b[32mString\u001b[39m, \u001b[32mVector\u001b[39m[\u001b[32mString\u001b[39m]] = \u001b[33mMap\u001b[39m(\n",
       "  \u001b[32m\"quietus\"\u001b[39m -> \u001b[33mVector\u001b[39m(\n",
       "    \u001b[32m\"quietus\"\u001b[39m,\n",
       "    \u001b[32m\"quietus\"\u001b[39m,\n",
       "    \u001b[32m\"quietus\"\u001b[39m,\n",
       "    \u001b[32m\"quietus\"\u001b[39m,\n",
       "    \u001b[32m\"quietus\"\u001b[39m,\n",
       "    \u001b[32m\"quietus\"\u001b[39m,\n",
       "    \u001b[32m\"quietus\"\u001b[39m,\n",
       "    \u001b[32m\"quietus\"\u001b[39m,\n",
       "    \u001b[32m\"quietus\"\u001b[39m,\n",
       "    \u001b[32m\"quietus\"\u001b[39m,\n",
       "    \u001b[32m\"quietus\"\u001b[39m,\n",
       "    \u001b[32m\"quietus\"\u001b[39m,\n",
       "    \u001b[32m\"quietus\"\u001b[39m\n",
       "  ),\n",
       "  \u001b[32m\"zenobia\"\u001b[39m -> \u001b[33mVector\u001b[39m(\u001b[32m\"zenobia\"\u001b[39m, \u001b[32m\"zenobia\"\u001b[39m),\n",
       "  \u001b[32m\"maximus_barcelona\"\u001b[39m -> \u001b[33mVector\u001b[39m(\n",
       "    \u001b[32m\"maximus_barcelona\"\u001b[39m,\n",
       "    \u001b[32m\"maximus_barcelona\"\u001b[39m,\n",
       "    \u001b[32m\"maximus_barcelona\"\u001b[39m,\n",
       "    \u001b[32m\"maximus_barcelona\"\u001b[39m\n",
       "  ),\n",
       "  \u001b[32m\"trebonianus_gallus\"\u001b[39m -> \u001b[33mVector\u001b[39m(\n",
       "    \u001b[32m\"trebonianus_gallus\"\u001b[39m,\n",
       "    \u001b[32m\"trebonianus_gallus\"\u001b[39m,\n",
       "    \u001b[32m\"trebonianus_gallus\"\u001b[39m,\n",
       "    \u001b[32m\"trebonianus_gallus\"\u001b[39m,\n",
       "    \u001b[32m\"trebonianus_gallus\"\u001b[39m,\n",
       "    \u001b[32m\"trebonianus_gallus\"\u001b[39m,\n",
       "    \u001b[32m\"trebonianus_gallus\"\u001b[39m,\n",
       "    \u001b[32m\"trebonianus_gallus\"\u001b[39m,\n",
       "    \u001b[32m\"trebonianus_gallus\"\u001b[39m,\n",
       "    \u001b[32m\"trebonianus_gallus\"\u001b[39m,\n",
       "    \u001b[32m\"trebonianus_gallus\"\u001b[39m,\n",
       "    \u001b[32m\"trebonianus_gallus\"\u001b[39m,\n",
       "    \u001b[32m\"trebonianus_gallus\"\u001b[39m,\n",
       "    \u001b[32m\"trebonianus_gallus\"\u001b[39m,\n",
       "    \u001b[32m\"trebonianus_gallus\"\u001b[39m,\n",
       "...\n",
       "\u001b[36mAuthoritiesCounts\u001b[39m: \u001b[32mMap\u001b[39m[\u001b[32mString\u001b[39m, \u001b[32mInt\u001b[39m] = \u001b[33mMap\u001b[39m(\n",
       "  \u001b[32m\"quietus\"\u001b[39m -> \u001b[32m13\u001b[39m,\n",
       "  \u001b[32m\"zenobia\"\u001b[39m -> \u001b[32m2\u001b[39m,\n",
       "  \u001b[32m\"maximus_barcelona\"\u001b[39m -> \u001b[32m4\u001b[39m,\n",
       "  \u001b[32m\"trebonianus_gallus\"\u001b[39m -> \u001b[32m307\u001b[39m,\n",
       "  \u001b[32m\"carausius\"\u001b[39m -> \u001b[32m1146\u001b[39m,\n",
       "  \u001b[32m\"tetricus_i\"\u001b[39m -> \u001b[32m295\u001b[39m,\n",
       "  \u001b[32m\"postumus\"\u001b[39m -> \u001b[32m392\u001b[39m,\n",
       "  \u001b[32m\"macrianus_minor\"\u001b[39m -> \u001b[32m13\u001b[39m,\n",
       "  \u001b[32m\"anthemius\"\u001b[39m -> \u001b[32m107\u001b[39m,\n",
       "  \u001b[32m\"magnus_maximus\"\u001b[39m -> \u001b[32m110\u001b[39m,\n",
       "  \u001b[32m\"otho\"\u001b[39m -> \u001b[32m24\u001b[39m,\n",
       "  \u001b[32m\"pertinax\"\u001b[39m -> \u001b[32m71\u001b[39m,\n",
       "  \u001b[32m\"basiliscus\"\u001b[39m -> \u001b[32m50\u001b[39m,\n",
       "  \u001b[32m\"elagabalus\"\u001b[39m -> \u001b[32m550\u001b[39m,\n",
       "  \u001b[32m\"theodosius_ii\"\u001b[39m -> \u001b[32m275\u001b[39m,\n",
       "  \u001b[32m\"constantine_i\"\u001b[39m -> \u001b[32m4096\u001b[39m,\n",
       "  \u001b[32m\"numerian\"\u001b[39m -> \u001b[32m90\u001b[39m,\n",
       "  \u001b[32m\"domitius_alexander\"\u001b[39m -> \u001b[32m15\u001b[39m,\n",
       "  \u001b[32m\"quintillus\"\u001b[39m -> \u001b[32m100\u001b[39m,\n",
       "  \u001b[32m\"tacitus\"\u001b[39m -> \u001b[32m214\u001b[39m,\n",
       "  \u001b[32m\"anonymous\"\u001b[39m -> \u001b[32m184\u001b[39m,\n",
       "  \u001b[32m\"vespasian\"\u001b[39m -> \u001b[32m1588\u001b[39m,\n",
       "  \u001b[32m\"sponsianus\"\u001b[39m -> \u001b[32m1\u001b[39m,\n",
       "  \u001b[32m\"jovianus\"\u001b[39m -> \u001b[32m98\u001b[39m,\n",
       "  \u001b[32m\"probus\"\u001b[39m -> \u001b[32m953\u001b[39m,\n",
       "  \u001b[32m\"valentinian_ii\"\u001b[39m -> \u001b[32m824\u001b[39m,\n",
       "  \u001b[32m\"severus_alexander\"\u001b[39m -> \u001b[32m942\u001b[39m,\n",
       "  \u001b[32m\"saturninus\"\u001b[39m -> \u001b[32m1\u001b[39m,\n",
       "  \u001b[32m\"romulus_augustulus\"\u001b[39m -> \u001b[32m22\u001b[39m,\n",
       "  \u001b[32m\"trajan_decius\"\u001b[39m -> \u001b[32m531\u001b[39m,\n",
       "  \u001b[32m\"gordian_i\"\u001b[39m -> \u001b[32m16\u001b[39m,\n",
       "  \u001b[32m\"clodius_macer\"\u001b[39m -> \u001b[32m42\u001b[39m,\n",
       "  \u001b[32m\"constantine_iii\"\u001b[39m -> \u001b[32m46\u001b[39m,\n",
       "  \u001b[32m\"domitian_ii\"\u001b[39m -> \u001b[32m1\u001b[39m,\n",
       "  \u001b[32m\"carinus\"\u001b[39m -> \u001b[32m145\u001b[39m,\n",
       "  \u001b[32m\"jotapianus\"\u001b[39m -> \u001b[32m5\u001b[39m,\n",
       "  \u001b[32m\"hadrian\"\u001b[39m -> \u001b[32m2434\u001b[39m,\n",
       "  \u001b[32m\"vitellius\"\u001b[39m -> \u001b[32m177\u001b[39m,\n",
       "...\n",
       "\u001b[36mAuthoritiesHisto\u001b[39m: \u001b[32mVector\u001b[39m[(\u001b[32mString\u001b[39m, \u001b[32mInt\u001b[39m)] = \u001b[33mVector\u001b[39m(\n",
       "  (\u001b[32m\"constantine_i\"\u001b[39m, \u001b[32m4096\u001b[39m),\n",
       "  (\u001b[32m\"gallienus\"\u001b[39m, \u001b[32m3434\u001b[39m),\n",
       "  (\u001b[32m\"hadrian\"\u001b[39m, \u001b[32m2434\u001b[39m),\n",
       "  (\u001b[32m\"antoninus_pius\"\u001b[39m, \u001b[32m2381\u001b[39m),\n",
       "  (\u001b[32m\"maximian\"\u001b[39m, \u001b[32m2326\u001b[39m),\n",
       "  (\u001b[32m\"septimius_severus\"\u001b[39m, \u001b[32m2170\u001b[39m),\n",
       "  (\u001b[32m\"marcus_aurelius\"\u001b[39m, \u001b[32m1819\u001b[39m),\n",
       "  (\u001b[32m\"constantius_ii\"\u001b[39m, \u001b[32m1617\u001b[39m),\n",
       "  (\u001b[32m\"valerian\"\u001b[39m, \u001b[32m1597\u001b[39m),\n",
       "  (\u001b[32m\"vespasian\"\u001b[39m, \u001b[32m1588\u001b[39m),\n",
       "  (\u001b[32m\"valentinian_i\"\u001b[39m, \u001b[32m1417\u001b[39m),\n",
       "  (\u001b[32m\"theodosius_i\"\u001b[39m, \u001b[32m1176\u001b[39m),\n",
       "  (\u001b[32m\"carausius\"\u001b[39m, \u001b[32m1146\u001b[39m),\n",
       "  (\u001b[32m\"probus\"\u001b[39m, \u001b[32m953\u001b[39m),\n",
       "  (\u001b[32m\"commodus\"\u001b[39m, \u001b[32m945\u001b[39m),\n",
       "  (\u001b[32m\"trajan\"\u001b[39m, \u001b[32m942\u001b[39m),\n",
       "  (\u001b[32m\"severus_alexander\"\u001b[39m, \u001b[32m942\u001b[39m),\n",
       "  (\u001b[32m\"domitian\"\u001b[39m, \u001b[32m859\u001b[39m),\n",
       "  (\u001b[32m\"valens\"\u001b[39m, \u001b[32m847\u001b[39m),\n",
       "  (\u001b[32m\"valentinian_ii\"\u001b[39m, \u001b[32m824\u001b[39m),\n",
       "  (\u001b[32m\"constans\"\u001b[39m, \u001b[32m666\u001b[39m),\n",
       "  (\u001b[32m\"augustus\"\u001b[39m, \u001b[32m629\u001b[39m),\n",
       "  (\u001b[32m\"nero\"\u001b[39m, \u001b[32m622\u001b[39m),\n",
       "  (\u001b[32m\"licinius\"\u001b[39m, \u001b[32m580\u001b[39m),\n",
       "  (\u001b[32m\"gordian_iii\"\u001b[39m, \u001b[32m552\u001b[39m),\n",
       "  (\u001b[32m\"philip_the_arab\"\u001b[39m, \u001b[32m551\u001b[39m),\n",
       "  (\u001b[32m\"elagabalus\"\u001b[39m, \u001b[32m550\u001b[39m),\n",
       "  (\u001b[32m\"titus\"\u001b[39m, \u001b[32m543\u001b[39m),\n",
       "  (\u001b[32m\"trajan_decius\"\u001b[39m, \u001b[32m531\u001b[39m),\n",
       "  (\u001b[32m\"caracalla\"\u001b[39m, \u001b[32m529\u001b[39m),\n",
       "  (\u001b[32m\"aurelian\"\u001b[39m, \u001b[32m525\u001b[39m),\n",
       "  (\u001b[32m\"galba\"\u001b[39m, \u001b[32m522\u001b[39m),\n",
       "  (\u001b[32m\"constantine_ii\"\u001b[39m, \u001b[32m450\u001b[39m),\n",
       "  (\u001b[32m\"gratian\"\u001b[39m, \u001b[32m437\u001b[39m),\n",
       "  (\u001b[32m\"magnentius\"\u001b[39m, \u001b[32m425\u001b[39m),\n",
       "  (\u001b[32m\"diocletian\"\u001b[39m, \u001b[32m405\u001b[39m),\n",
       "  (\u001b[32m\"postumus\"\u001b[39m, \u001b[32m392\u001b[39m),\n",
       "  (\u001b[32m\"maximinus_daia\"\u001b[39m, \u001b[32m380\u001b[39m),\n",
       "..."
      ]
     },
     "execution_count": 5,
     "metadata": {},
     "output_type": "execute_result"
    }
   ],
   "source": [
    "val Authorities = data.map(columns => columns(4))\n",
    "val AuthoritiesGrouped = Authorities.groupBy(auth => auth)\n",
    "val AuthoritiesCounts = AuthoritiesGrouped.map{ case (a, v) => (a, v.size) }\n",
    "val AuthoritiesHisto = AuthoritiesCounts.toVector.sortBy(frequency => frequency._2).reverse"
   ]
  },
  {
   "cell_type": "code",
   "execution_count": 6,
   "metadata": {},
   "outputs": [
    {
     "data": {
      "text/plain": [
       "\u001b[36mcutOff\u001b[39m: \u001b[32mInt\u001b[39m = \u001b[32m1000\u001b[39m\n",
       "\u001b[36mOneThousandClub\u001b[39m: \u001b[32mVector\u001b[39m[(\u001b[32mString\u001b[39m, \u001b[32mInt\u001b[39m)] = \u001b[33mVector\u001b[39m(\n",
       "  (\u001b[32m\"constantine_i\"\u001b[39m, \u001b[32m4096\u001b[39m),\n",
       "  (\u001b[32m\"gallienus\"\u001b[39m, \u001b[32m3434\u001b[39m),\n",
       "  (\u001b[32m\"hadrian\"\u001b[39m, \u001b[32m2434\u001b[39m),\n",
       "  (\u001b[32m\"antoninus_pius\"\u001b[39m, \u001b[32m2381\u001b[39m),\n",
       "  (\u001b[32m\"maximian\"\u001b[39m, \u001b[32m2326\u001b[39m),\n",
       "  (\u001b[32m\"septimius_severus\"\u001b[39m, \u001b[32m2170\u001b[39m),\n",
       "  (\u001b[32m\"marcus_aurelius\"\u001b[39m, \u001b[32m1819\u001b[39m),\n",
       "  (\u001b[32m\"constantius_ii\"\u001b[39m, \u001b[32m1617\u001b[39m),\n",
       "  (\u001b[32m\"valerian\"\u001b[39m, \u001b[32m1597\u001b[39m),\n",
       "  (\u001b[32m\"vespasian\"\u001b[39m, \u001b[32m1588\u001b[39m),\n",
       "  (\u001b[32m\"valentinian_i\"\u001b[39m, \u001b[32m1417\u001b[39m),\n",
       "  (\u001b[32m\"theodosius_i\"\u001b[39m, \u001b[32m1176\u001b[39m),\n",
       "  (\u001b[32m\"carausius\"\u001b[39m, \u001b[32m1146\u001b[39m)\n",
       ")"
      ]
     },
     "execution_count": 6,
     "metadata": {},
     "output_type": "execute_result"
    }
   ],
   "source": [
    "val cutOff = 1000 \n",
    "val OneThousandClub = AuthoritiesHisto.filter(frequency => frequency._2 > cutOff)"
   ]
  },
  {
   "cell_type": "markdown",
   "metadata": {},
   "source": [
    "*Step 2b: Pair Reverse Legend to Corresponding Authority:*"
   ]
  },
  {
   "cell_type": "code",
   "execution_count": 7,
   "metadata": {},
   "outputs": [
    {
     "data": {
      "text/plain": [
       "\u001b[36mReverseLegend\u001b[39m: \u001b[32mVector\u001b[39m[\u001b[32mString\u001b[39m] = \u001b[33mVector\u001b[39m(\n",
       "  \u001b[32m\"Roma, helmeted, draped, standing left, holding Victory in extended right hand and vertical spear in left hand\"\u001b[39m,\n",
       "  \u001b[32m\"Victory advancing left, holding wreath and palm\"\u001b[39m,\n",
       "  \u001b[32m\"Victory advancing left, holding wreath and palm\"\u001b[39m,\n",
       "  \u001b[32m\"Pax, draped, standing left, holding olive branch in right hand and sceptre in left hand\"\u001b[39m,\n",
       "  \u001b[32m\"Victory advancing left, holding wreath and palm\"\u001b[39m,\n",
       "  \u001b[32m\"Sol, chlamys hanging behind, standing left, raising right hand and holding globe close to body in left hand\"\u001b[39m,\n",
       "  \u001b[32m\"Sol, chlamys hanging behind, standing left, raising right hand and holding globe close to body in left hand\"\u001b[39m,\n",
       "  \u001b[32m\"Sol, chlamys hanging behind, standing left, raising right hand and holding up globe in left hand\"\u001b[39m,\n",
       "  \u001b[32m\"Sol, chlamys hanging behind, standing left, raising right hand and holding up globe in left hand\"\u001b[39m,\n",
       "  \u001b[32m\"Sol, chlamys hanging behind, standing left, raising right hand and holding up globe in left hand\"\u001b[39m,\n",
       "  \u001b[32m\"Roma, helmeted, draped, seated front, head left, seated front in hexastyle temple, holding globe in right hand and sceptre in left hand, to left, shield; in pediment, wreath\"\u001b[39m,\n",
       "  \u001b[32m\"Mars, standing right, leaning on reversed spear (or sceptre) with right hand and placing left hand on shield\"\u001b[39m,\n",
       "  \u001b[32m\"Jupiter, nude except of cloak draped over left shoulder, standing left, holding thunderbolt in right hand and sceptre in left hand\"\u001b[39m,\n",
       "  \u001b[32m\"Mars, standing left, head right, leaning on reversed spear (or sceptre) with right hand and placing left hand on shield\"\u001b[39m,\n",
       "  \u001b[32m\"Hercules, standing right, leaning on cub with right hand and holding Victory on globe and lion's skin in left hand\"\u001b[39m,\n",
       "  \u001b[32m\"Genius, wearing modius, nude, chlamys draped over left shoulder, standing left, holding patera in right hand and cornucopiae in left hand\"\u001b[39m,\n",
       "  \u001b[32m\"Genius, wearing modius, nude, chlamys draped over left shoulder, standing left, holding patera in right hand and cornucopiae in left hand\"\u001b[39m,\n",
       "  \u001b[32m\"Herennius, in military attire, standing left, holding wand in right hand and transverse spear in left hand\"\u001b[39m,\n",
       "  \u001b[32m\"Genius, wearing modius, nude, chlamys draped over left shoulder, standing left, holding patera in right hand and cornucopiae in left hand\"\u001b[39m,\n",
       "  \u001b[32m\"Genius, wearing modius, nude, chlamys draped over left shoulder, standing left, holding patera in right hand and cornucopiae in left hand\"\u001b[39m,\n",
       "...\n",
       "\u001b[36mAuthAndLegend\u001b[39m: \u001b[32mVector\u001b[39m[\u001b[32mString\u001b[39m] = \u001b[33mVector\u001b[39m(\n",
       "  \u001b[32m\"commodus Roma, helmeted, draped, standing left, holding Victory in extended right hand and vertical spear in left hand\"\u001b[39m,\n",
       "  \u001b[32m\"valentinian_i Victory advancing left, holding wreath and palm\"\u001b[39m,\n",
       "  \u001b[32m\"valentinian_i Victory advancing left, holding wreath and palm\"\u001b[39m,\n",
       "  \u001b[32m\"severus_alexander Pax, draped, standing left, holding olive branch in right hand and sceptre in left hand\"\u001b[39m,\n",
       "  \u001b[32m\"valentinian_i Victory advancing left, holding wreath and palm\"\u001b[39m,\n",
       "  \u001b[32m\"constantine_i Sol, chlamys hanging behind, standing left, raising right hand and holding globe close to body in left hand\"\u001b[39m,\n",
       "  \u001b[32m\"constantine_i Sol, chlamys hanging behind, standing left, raising right hand and holding globe close to body in left hand\"\u001b[39m,\n",
       "  \u001b[32m\"constantine_i Sol, chlamys hanging behind, standing left, raising right hand and holding up globe in left hand\"\u001b[39m,\n",
       "  \u001b[32m\"constantine_i Sol, chlamys hanging behind, standing left, raising right hand and holding up globe in left hand\"\u001b[39m,\n",
       "  \u001b[32m\"constantine_i Sol, chlamys hanging behind, standing left, raising right hand and holding up globe in left hand\"\u001b[39m,\n",
       "  \u001b[32m\"constantine_i Roma, helmeted, draped, seated front, head left, seated front in hexastyle temple, holding globe in right hand and sceptre in left hand, to left, shield; in pediment, wreath\"\u001b[39m,\n",
       "  \u001b[32m\"constantine_i Mars, standing right, leaning on reversed spear (or sceptre) with right hand and placing left hand on shield\"\u001b[39m,\n",
       "  \u001b[32m\"valerian Jupiter, nude except of cloak draped over left shoulder, standing left, holding thunderbolt in right hand and sceptre in left hand\"\u001b[39m,\n",
       "  \u001b[32m\"constantine_i Mars, standing left, head right, leaning on reversed spear (or sceptre) with right hand and placing left hand on shield\"\u001b[39m,\n",
       "  \u001b[32m\"constantine_i Hercules, standing right, leaning on cub with right hand and holding Victory on globe and lion's skin in left hand\"\u001b[39m,\n",
       "  \u001b[32m\"constantine_i Genius, wearing modius, nude, chlamys draped over left shoulder, standing left, holding patera in right hand and cornucopiae in left hand\"\u001b[39m,\n",
       "  \u001b[32m\"constantine_i Genius, wearing modius, nude, chlamys draped over left shoulder, standing left, holding patera in right hand and cornucopiae in left hand\"\u001b[39m,\n",
       "  \u001b[32m\"trajan_decius Herennius, in military attire, standing left, holding wand in right hand and transverse spear in left hand\"\u001b[39m,\n",
       "  \u001b[32m\"constantine_i Genius, wearing modius, nude, chlamys draped over left shoulder, standing left, holding patera in right hand and cornucopiae in left hand\"\u001b[39m,\n",
       "  \u001b[32m\"constantine_i Genius, wearing modius, nude, chlamys draped over left shoulder, standing left, holding patera in right hand and cornucopiae in left hand\"\u001b[39m,\n",
       "...\n",
       "\u001b[36mAandLParsed3\u001b[39m: \u001b[32mVector\u001b[39m[\u001b[32mString\u001b[39m] = \u001b[33mVector\u001b[39m(\n",
       "  \u001b[32m\"commodus Roma helmeted draped standing left holding Victory in extended right hand and vertical spear in left hand\"\u001b[39m,\n",
       "  \u001b[32m\"valentinian_i Victory advancing left holding wreath and palm\"\u001b[39m,\n",
       "  \u001b[32m\"valentinian_i Victory advancing left holding wreath and palm\"\u001b[39m,\n",
       "  \u001b[32m\"severus_alexander Pax draped standing left holding olive branch in right hand and sceptre in left hand\"\u001b[39m,\n",
       "  \u001b[32m\"valentinian_i Victory advancing left holding wreath and palm\"\u001b[39m,\n",
       "  \u001b[32m\"constantine_i Sol chlamys hanging behind standing left raising right hand and holding globe close to body in left hand\"\u001b[39m,\n",
       "  \u001b[32m\"constantine_i Sol chlamys hanging behind standing left raising right hand and holding globe close to body in left hand\"\u001b[39m,\n",
       "  \u001b[32m\"constantine_i Sol chlamys hanging behind standing left raising right hand and holding up globe in left hand\"\u001b[39m,\n",
       "  \u001b[32m\"constantine_i Sol chlamys hanging behind standing left raising right hand and holding up globe in left hand\"\u001b[39m,\n",
       "  \u001b[32m\"constantine_i Sol chlamys hanging behind standing left raising right hand and holding up globe in left hand\"\u001b[39m,\n",
       "  \u001b[32m\"constantine_i Roma helmeted draped seated front head left seated front in hexastyle temple holding globe in right hand and sceptre in left hand to left shield; in pediment wreath\"\u001b[39m,\n",
       "  \u001b[32m\"constantine_i Mars standing right leaning on reversed spear (or sceptre) with right hand and placing left hand on shield\"\u001b[39m,\n",
       "  \u001b[32m\"valerian Jupiter nude except of cloak draped over left shoulder standing left holding thunderbolt in right hand and sceptre in left hand\"\u001b[39m,\n",
       "  \u001b[32m\"constantine_i Mars standing left head right leaning on reversed spear (or sceptre) with right hand and placing left hand on shield\"\u001b[39m,\n",
       "  \u001b[32m\"constantine_i Hercules standing right leaning on cub with right hand and holding Victory on globe and lion's skin in left hand\"\u001b[39m,\n",
       "  \u001b[32m\"constantine_i Genius wearing modius nude chlamys draped over left shoulder standing left holding patera in right hand and cornucopiae in left hand\"\u001b[39m,\n",
       "  \u001b[32m\"constantine_i Genius wearing modius nude chlamys draped over left shoulder standing left holding patera in right hand and cornucopiae in left hand\"\u001b[39m,\n",
       "  \u001b[32m\"trajan_decius Herennius in military attire standing left holding wand in right hand and transverse spear in left hand\"\u001b[39m,\n",
       "  \u001b[32m\"constantine_i Genius wearing modius nude chlamys draped over left shoulder standing left holding patera in right hand and cornucopiae in left hand\"\u001b[39m,\n",
       "  \u001b[32m\"constantine_i Genius wearing modius nude chlamys draped over left shoulder standing left holding patera in right hand and cornucopiae in left hand\"\u001b[39m,\n",
       "...\n",
       "\u001b[36mAandLParsed2\u001b[39m: \u001b[32mVector\u001b[39m[\u001b[32mString\u001b[39m] = \u001b[33mVector\u001b[39m(\n",
       "  \u001b[32m\"commodus Roma helmeted draped standing left holding Victory in extended right hand and vertical spear in left hand\"\u001b[39m,\n",
       "  \u001b[32m\"valentinian_i Victory advancing left holding wreath and palm\"\u001b[39m,\n",
       "  \u001b[32m\"valentinian_i Victory advancing left holding wreath and palm\"\u001b[39m,\n",
       "  \u001b[32m\"severus_alexander Pax draped standing left holding olive branch in right hand and sceptre in left hand\"\u001b[39m,\n",
       "  \u001b[32m\"valentinian_i Victory advancing left holding wreath and palm\"\u001b[39m,\n",
       "  \u001b[32m\"constantine_i Sol chlamys hanging behind standing left raising right hand and holding globe close to body in left hand\"\u001b[39m,\n",
       "  \u001b[32m\"constantine_i Sol chlamys hanging behind standing left raising right hand and holding globe close to body in left hand\"\u001b[39m,\n",
       "  \u001b[32m\"constantine_i Sol chlamys hanging behind standing left raising right hand and holding up globe in left hand\"\u001b[39m,\n",
       "  \u001b[32m\"constantine_i Sol chlamys hanging behind standing left raising right hand and holding up globe in left hand\"\u001b[39m,\n",
       "  \u001b[32m\"constantine_i Sol chlamys hanging behind standing left raising right hand and holding up globe in left hand\"\u001b[39m,\n",
       "  \u001b[32m\"constantine_i Roma helmeted draped seated front head left seated front in hexastyle temple holding globe in right hand and sceptre in left hand to left shield in pediment wreath\"\u001b[39m,\n",
       "  \u001b[32m\"constantine_i Mars standing right leaning on reversed spear (or sceptre) with right hand and placing left hand on shield\"\u001b[39m,\n",
       "  \u001b[32m\"valerian Jupiter nude except of cloak draped over left shoulder standing left holding thunderbolt in right hand and sceptre in left hand\"\u001b[39m,\n",
       "  \u001b[32m\"constantine_i Mars standing left head right leaning on reversed spear (or sceptre) with right hand and placing left hand on shield\"\u001b[39m,\n",
       "  \u001b[32m\"constantine_i Hercules standing right leaning on cub with right hand and holding Victory on globe and lion's skin in left hand\"\u001b[39m,\n",
       "  \u001b[32m\"constantine_i Genius wearing modius nude chlamys draped over left shoulder standing left holding patera in right hand and cornucopiae in left hand\"\u001b[39m,\n",
       "  \u001b[32m\"constantine_i Genius wearing modius nude chlamys draped over left shoulder standing left holding patera in right hand and cornucopiae in left hand\"\u001b[39m,\n",
       "  \u001b[32m\"trajan_decius Herennius in military attire standing left holding wand in right hand and transverse spear in left hand\"\u001b[39m,\n",
       "  \u001b[32m\"constantine_i Genius wearing modius nude chlamys draped over left shoulder standing left holding patera in right hand and cornucopiae in left hand\"\u001b[39m,\n",
       "  \u001b[32m\"constantine_i Genius wearing modius nude chlamys draped over left shoulder standing left holding patera in right hand and cornucopiae in left hand\"\u001b[39m,\n",
       "...\n",
       "\u001b[36mAandLParsed\u001b[39m: \u001b[32mVector\u001b[39m[\u001b[32mString\u001b[39m] = \u001b[33mVector\u001b[39m(\n",
       "  \u001b[32m\"commodus Roma helmeted draped standing left holding Victory in extended right hand and vertical spear in left hand\"\u001b[39m,\n",
       "  \u001b[32m\"valentinian_i Victory advancing left holding wreath and palm\"\u001b[39m,\n",
       "  \u001b[32m\"valentinian_i Victory advancing left holding wreath and palm\"\u001b[39m,\n",
       "  \u001b[32m\"severus_alexander Pax draped standing left holding olive branch in right hand and sceptre in left hand\"\u001b[39m,\n",
       "  \u001b[32m\"valentinian_i Victory advancing left holding wreath and palm\"\u001b[39m,\n",
       "  \u001b[32m\"constantine_i Sol chlamys hanging behind standing left raising right hand and holding globe close to body in left hand\"\u001b[39m,\n",
       "  \u001b[32m\"constantine_i Sol chlamys hanging behind standing left raising right hand and holding globe close to body in left hand\"\u001b[39m,\n",
       "  \u001b[32m\"constantine_i Sol chlamys hanging behind standing left raising right hand and holding up globe in left hand\"\u001b[39m,\n",
       "  \u001b[32m\"constantine_i Sol chlamys hanging behind standing left raising right hand and holding up globe in left hand\"\u001b[39m,\n",
       "  \u001b[32m\"constantine_i Sol chlamys hanging behind standing left raising right hand and holding up globe in left hand\"\u001b[39m,\n",
       "  \u001b[32m\"constantine_i Roma helmeted draped seated front head left seated front in hexastyle temple holding globe in right hand and sceptre in left hand to left shield in pediment wreath\"\u001b[39m,\n",
       "  \u001b[32m\"constantine_i Mars standing right leaning on reversed spear (or sceptre) with right hand and placing left hand on shield\"\u001b[39m,\n",
       "  \u001b[32m\"valerian Jupiter nude except of cloak draped over left shoulder standing left holding thunderbolt in right hand and sceptre in left hand\"\u001b[39m,\n",
       "  \u001b[32m\"constantine_i Mars standing left head right leaning on reversed spear (or sceptre) with right hand and placing left hand on shield\"\u001b[39m,\n",
       "  \u001b[32m\"constantine_i Hercules standing right leaning on cub with right hand and holding Victory on globe and lion's skin in left hand\"\u001b[39m,\n",
       "  \u001b[32m\"constantine_i Genius wearing modius nude chlamys draped over left shoulder standing left holding patera in right hand and cornucopiae in left hand\"\u001b[39m,\n",
       "  \u001b[32m\"constantine_i Genius wearing modius nude chlamys draped over left shoulder standing left holding patera in right hand and cornucopiae in left hand\"\u001b[39m,\n",
       "  \u001b[32m\"trajan_decius Herennius in military attire standing left holding wand in right hand and transverse spear in left hand\"\u001b[39m,\n",
       "  \u001b[32m\"constantine_i Genius wearing modius nude chlamys draped over left shoulder standing left holding patera in right hand and cornucopiae in left hand\"\u001b[39m,\n",
       "  \u001b[32m\"constantine_i Genius wearing modius nude chlamys draped over left shoulder standing left holding patera in right hand and cornucopiae in left hand\"\u001b[39m,\n",
       "..."
      ]
     },
     "execution_count": 7,
     "metadata": {},
     "output_type": "execute_result"
    }
   ],
   "source": [
    "val ReverseLegend = data.map(columns => columns(10))\n",
    "val AuthAndLegend = data.map(columns => columns(4) + \" \" + columns(10))\n",
    "\n",
    "//then parse (to the best I can)\n",
    "val AandLParsed3 = AuthAndLegend.map(ln => ln.replaceAll(\", \", \" \"))\n",
    "val AandLParsed2 = AandLParsed3.map(ln => ln.replaceAll(\";\" , \"\"))\n",
    "val AandLParsed = AandLParsed2.map(ln => ln.replaceAll(\":\" , \"\"))"
   ]
  },
  {
   "cell_type": "code",
   "execution_count": 10,
   "metadata": {},
   "outputs": [
    {
     "data": {
      "text/plain": [
       "\u001b[36mLParen\u001b[39m: \u001b[32mString\u001b[39m = \u001b[32m\"\\\\(\"\u001b[39m\n",
       "\u001b[36mRParen\u001b[39m: \u001b[32mString\u001b[39m = \u001b[32m\"\\\\)\"\u001b[39m"
      ]
     },
     "execution_count": 10,
     "metadata": {},
     "output_type": "execute_result"
    }
   ],
   "source": [
    "val LParen = \"\\\\(\"\n",
    "val RParen = \"\\\\)\""
   ]
  },
  {
   "cell_type": "code",
   "execution_count": 12,
   "metadata": {},
   "outputs": [
    {
     "data": {
      "text/plain": [
       "\u001b[36mAandLParsedMore\u001b[39m: \u001b[32mVector\u001b[39m[\u001b[32mString\u001b[39m] = \u001b[33mVector\u001b[39m(\n",
       "  \u001b[32m\"commodus Roma helmeted draped standing left holding Victory in extended right hand and vertical spear in left hand\"\u001b[39m,\n",
       "  \u001b[32m\"valentinian_i Victory advancing left holding wreath and palm\"\u001b[39m,\n",
       "  \u001b[32m\"valentinian_i Victory advancing left holding wreath and palm\"\u001b[39m,\n",
       "  \u001b[32m\"severus_alexander Pax draped standing left holding olive branch in right hand and sceptre in left hand\"\u001b[39m,\n",
       "  \u001b[32m\"valentinian_i Victory advancing left holding wreath and palm\"\u001b[39m,\n",
       "  \u001b[32m\"constantine_i Sol chlamys hanging behind standing left raising right hand and holding globe close to body in left hand\"\u001b[39m,\n",
       "  \u001b[32m\"constantine_i Sol chlamys hanging behind standing left raising right hand and holding globe close to body in left hand\"\u001b[39m,\n",
       "  \u001b[32m\"constantine_i Sol chlamys hanging behind standing left raising right hand and holding up globe in left hand\"\u001b[39m,\n",
       "  \u001b[32m\"constantine_i Sol chlamys hanging behind standing left raising right hand and holding up globe in left hand\"\u001b[39m,\n",
       "  \u001b[32m\"constantine_i Sol chlamys hanging behind standing left raising right hand and holding up globe in left hand\"\u001b[39m,\n",
       "  \u001b[32m\"constantine_i Roma helmeted draped seated front head left seated front in hexastyle temple holding globe in right hand and sceptre in left hand to left shield in pediment wreath\"\u001b[39m,\n",
       "  \u001b[32m\"constantine_i Mars standing right leaning on reversed spear or sceptre) with right hand and placing left hand on shield\"\u001b[39m,\n",
       "  \u001b[32m\"valerian Jupiter nude except of cloak draped over left shoulder standing left holding thunderbolt in right hand and sceptre in left hand\"\u001b[39m,\n",
       "  \u001b[32m\"constantine_i Mars standing left head right leaning on reversed spear or sceptre) with right hand and placing left hand on shield\"\u001b[39m,\n",
       "  \u001b[32m\"constantine_i Hercules standing right leaning on cub with right hand and holding Victory on globe and lion's skin in left hand\"\u001b[39m,\n",
       "  \u001b[32m\"constantine_i Genius wearing modius nude chlamys draped over left shoulder standing left holding patera in right hand and cornucopiae in left hand\"\u001b[39m,\n",
       "  \u001b[32m\"constantine_i Genius wearing modius nude chlamys draped over left shoulder standing left holding patera in right hand and cornucopiae in left hand\"\u001b[39m,\n",
       "  \u001b[32m\"trajan_decius Herennius in military attire standing left holding wand in right hand and transverse spear in left hand\"\u001b[39m,\n",
       "  \u001b[32m\"constantine_i Genius wearing modius nude chlamys draped over left shoulder standing left holding patera in right hand and cornucopiae in left hand\"\u001b[39m,\n",
       "  \u001b[32m\"constantine_i Genius wearing modius nude chlamys draped over left shoulder standing left holding patera in right hand and cornucopiae in left hand\"\u001b[39m,\n",
       "...\n",
       "\u001b[36mAandLParsedMore2\u001b[39m: \u001b[32mVector\u001b[39m[\u001b[32mString\u001b[39m] = \u001b[33mVector\u001b[39m(\n",
       "  \u001b[32m\"commodus Roma helmeted draped standing left holding Victory in extended right hand and vertical spear in left hand\"\u001b[39m,\n",
       "  \u001b[32m\"valentinian_i Victory advancing left holding wreath and palm\"\u001b[39m,\n",
       "  \u001b[32m\"valentinian_i Victory advancing left holding wreath and palm\"\u001b[39m,\n",
       "  \u001b[32m\"severus_alexander Pax draped standing left holding olive branch in right hand and sceptre in left hand\"\u001b[39m,\n",
       "  \u001b[32m\"valentinian_i Victory advancing left holding wreath and palm\"\u001b[39m,\n",
       "  \u001b[32m\"constantine_i Sol chlamys hanging behind standing left raising right hand and holding globe close to body in left hand\"\u001b[39m,\n",
       "  \u001b[32m\"constantine_i Sol chlamys hanging behind standing left raising right hand and holding globe close to body in left hand\"\u001b[39m,\n",
       "  \u001b[32m\"constantine_i Sol chlamys hanging behind standing left raising right hand and holding up globe in left hand\"\u001b[39m,\n",
       "  \u001b[32m\"constantine_i Sol chlamys hanging behind standing left raising right hand and holding up globe in left hand\"\u001b[39m,\n",
       "  \u001b[32m\"constantine_i Sol chlamys hanging behind standing left raising right hand and holding up globe in left hand\"\u001b[39m,\n",
       "  \u001b[32m\"constantine_i Roma helmeted draped seated front head left seated front in hexastyle temple holding globe in right hand and sceptre in left hand to left shield in pediment wreath\"\u001b[39m,\n",
       "  \u001b[32m\"constantine_i Mars standing right leaning on reversed spear or sceptre with right hand and placing left hand on shield\"\u001b[39m,\n",
       "  \u001b[32m\"valerian Jupiter nude except of cloak draped over left shoulder standing left holding thunderbolt in right hand and sceptre in left hand\"\u001b[39m,\n",
       "  \u001b[32m\"constantine_i Mars standing left head right leaning on reversed spear or sceptre with right hand and placing left hand on shield\"\u001b[39m,\n",
       "  \u001b[32m\"constantine_i Hercules standing right leaning on cub with right hand and holding Victory on globe and lion's skin in left hand\"\u001b[39m,\n",
       "  \u001b[32m\"constantine_i Genius wearing modius nude chlamys draped over left shoulder standing left holding patera in right hand and cornucopiae in left hand\"\u001b[39m,\n",
       "  \u001b[32m\"constantine_i Genius wearing modius nude chlamys draped over left shoulder standing left holding patera in right hand and cornucopiae in left hand\"\u001b[39m,\n",
       "  \u001b[32m\"trajan_decius Herennius in military attire standing left holding wand in right hand and transverse spear in left hand\"\u001b[39m,\n",
       "  \u001b[32m\"constantine_i Genius wearing modius nude chlamys draped over left shoulder standing left holding patera in right hand and cornucopiae in left hand\"\u001b[39m,\n",
       "  \u001b[32m\"constantine_i Genius wearing modius nude chlamys draped over left shoulder standing left holding patera in right hand and cornucopiae in left hand\"\u001b[39m,\n",
       "..."
      ]
     },
     "execution_count": 12,
     "metadata": {},
     "output_type": "execute_result"
    }
   ],
   "source": [
    "val AandLParsedMore = AandLParsed.map(ln => ln.replaceAll((LParen) , \"\"))    \n",
    "val AandLParsedMore2 = AandLParsedMore.map(ln => ln.replaceAll((RParen) , \"\"))   \n",
    "/// Also having issue with lowercase vs uppercase and want each word to only appear once in each"
   ]
  },
  {
   "cell_type": "code",
   "execution_count": 13,
   "metadata": {},
   "outputs": [
    {
     "data": {
      "text/plain": [
       "\u001b[36mAandLParsedMore3\u001b[39m: \u001b[32mVector\u001b[39m[\u001b[32mString\u001b[39m] = \u001b[33mVector\u001b[39m(\n",
       "  \u001b[32m\"commodus roma helmeted draped standing left holding victory in extended right hand and vertical spear in left hand\"\u001b[39m,\n",
       "  \u001b[32m\"valentinian_i victory advancing left holding wreath and palm\"\u001b[39m,\n",
       "  \u001b[32m\"valentinian_i victory advancing left holding wreath and palm\"\u001b[39m,\n",
       "  \u001b[32m\"severus_alexander pax draped standing left holding olive branch in right hand and sceptre in left hand\"\u001b[39m,\n",
       "  \u001b[32m\"valentinian_i victory advancing left holding wreath and palm\"\u001b[39m,\n",
       "  \u001b[32m\"constantine_i sol chlamys hanging behind standing left raising right hand and holding globe close to body in left hand\"\u001b[39m,\n",
       "  \u001b[32m\"constantine_i sol chlamys hanging behind standing left raising right hand and holding globe close to body in left hand\"\u001b[39m,\n",
       "  \u001b[32m\"constantine_i sol chlamys hanging behind standing left raising right hand and holding up globe in left hand\"\u001b[39m,\n",
       "  \u001b[32m\"constantine_i sol chlamys hanging behind standing left raising right hand and holding up globe in left hand\"\u001b[39m,\n",
       "  \u001b[32m\"constantine_i sol chlamys hanging behind standing left raising right hand and holding up globe in left hand\"\u001b[39m,\n",
       "  \u001b[32m\"constantine_i roma helmeted draped seated front head left seated front in hexastyle temple holding globe in right hand and sceptre in left hand to left shield in pediment wreath\"\u001b[39m,\n",
       "  \u001b[32m\"constantine_i mars standing right leaning on reversed spear or sceptre with right hand and placing left hand on shield\"\u001b[39m,\n",
       "  \u001b[32m\"valerian jupiter nude except of cloak draped over left shoulder standing left holding thunderbolt in right hand and sceptre in left hand\"\u001b[39m,\n",
       "  \u001b[32m\"constantine_i mars standing left head right leaning on reversed spear or sceptre with right hand and placing left hand on shield\"\u001b[39m,\n",
       "  \u001b[32m\"constantine_i hercules standing right leaning on cub with right hand and holding victory on globe and lion's skin in left hand\"\u001b[39m,\n",
       "  \u001b[32m\"constantine_i genius wearing modius nude chlamys draped over left shoulder standing left holding patera in right hand and cornucopiae in left hand\"\u001b[39m,\n",
       "  \u001b[32m\"constantine_i genius wearing modius nude chlamys draped over left shoulder standing left holding patera in right hand and cornucopiae in left hand\"\u001b[39m,\n",
       "  \u001b[32m\"trajan_decius herennius in military attire standing left holding wand in right hand and transverse spear in left hand\"\u001b[39m,\n",
       "  \u001b[32m\"constantine_i genius wearing modius nude chlamys draped over left shoulder standing left holding patera in right hand and cornucopiae in left hand\"\u001b[39m,\n",
       "  \u001b[32m\"constantine_i genius wearing modius nude chlamys draped over left shoulder standing left holding patera in right hand and cornucopiae in left hand\"\u001b[39m,\n",
       "..."
      ]
     },
     "execution_count": 13,
     "metadata": {},
     "output_type": "execute_result"
    }
   ],
   "source": [
    "val AandLParsedMore3 = AandLParsedMore2.map(a => a.toLowerCase)"
   ]
  },
  {
   "cell_type": "code",
   "execution_count": 14,
   "metadata": {},
   "outputs": [
    {
     "data": {
      "text/plain": [
       "\u001b[36mAuthHead\u001b[39m: \u001b[32mVector\u001b[39m[\u001b[32mVector\u001b[39m[\u001b[32mString\u001b[39m]] = \u001b[33mVector\u001b[39m(\n",
       "  \u001b[33mVector\u001b[39m(\n",
       "    \u001b[32m\"commodus\"\u001b[39m,\n",
       "    \u001b[32m\"roma\"\u001b[39m,\n",
       "    \u001b[32m\"helmeted\"\u001b[39m,\n",
       "    \u001b[32m\"draped\"\u001b[39m,\n",
       "    \u001b[32m\"standing\"\u001b[39m,\n",
       "    \u001b[32m\"left\"\u001b[39m,\n",
       "    \u001b[32m\"holding\"\u001b[39m,\n",
       "    \u001b[32m\"victory\"\u001b[39m,\n",
       "    \u001b[32m\"in\"\u001b[39m,\n",
       "    \u001b[32m\"extended\"\u001b[39m,\n",
       "    \u001b[32m\"right\"\u001b[39m,\n",
       "    \u001b[32m\"hand\"\u001b[39m,\n",
       "    \u001b[32m\"and\"\u001b[39m,\n",
       "    \u001b[32m\"vertical\"\u001b[39m,\n",
       "    \u001b[32m\"spear\"\u001b[39m,\n",
       "    \u001b[32m\"in\"\u001b[39m,\n",
       "    \u001b[32m\"left\"\u001b[39m,\n",
       "    \u001b[32m\"hand\"\u001b[39m\n",
       "  ),\n",
       "  \u001b[33mVector\u001b[39m(\n",
       "    \u001b[32m\"valentinian_i\"\u001b[39m,\n",
       "    \u001b[32m\"victory\"\u001b[39m,\n",
       "    \u001b[32m\"advancing\"\u001b[39m,\n",
       "    \u001b[32m\"left\"\u001b[39m,\n",
       "    \u001b[32m\"holding\"\u001b[39m,\n",
       "    \u001b[32m\"wreath\"\u001b[39m,\n",
       "    \u001b[32m\"and\"\u001b[39m,\n",
       "    \u001b[32m\"palm\"\u001b[39m\n",
       "  ),\n",
       "  \u001b[33mVector\u001b[39m(\n",
       "    \u001b[32m\"valentinian_i\"\u001b[39m,\n",
       "    \u001b[32m\"victory\"\u001b[39m,\n",
       "    \u001b[32m\"advancing\"\u001b[39m,\n",
       "    \u001b[32m\"left\"\u001b[39m,\n",
       "    \u001b[32m\"holding\"\u001b[39m,\n",
       "    \u001b[32m\"wreath\"\u001b[39m,\n",
       "    \u001b[32m\"and\"\u001b[39m,\n",
       "..."
      ]
     },
     "execution_count": 14,
     "metadata": {},
     "output_type": "execute_result"
    }
   ],
   "source": [
    "val AuthHead = AandLParsedMore3.map(ln => ln.split(\" \").toVector)"
   ]
  },
  {
   "cell_type": "markdown",
   "metadata": {},
   "source": [
    "Part 3, Analyze Each Member of the 1000 club:"
   ]
  },
  {
   "cell_type": "markdown",
   "metadata": {},
   "source": [
    "*Constantine_i*"
   ]
  },
  {
   "cell_type": "code",
   "execution_count": 15,
   "metadata": {},
   "outputs": [
    {
     "data": {
      "text/plain": [
       "\u001b[36mconstantine_iGrouped\u001b[39m: \u001b[32mVector\u001b[39m[\u001b[32mVector\u001b[39m[\u001b[32mString\u001b[39m]] = \u001b[33mVector\u001b[39m(\n",
       "  \u001b[33mVector\u001b[39m(\n",
       "    \u001b[32m\"constantine_i\"\u001b[39m,\n",
       "    \u001b[32m\"sol\"\u001b[39m,\n",
       "    \u001b[32m\"chlamys\"\u001b[39m,\n",
       "    \u001b[32m\"hanging\"\u001b[39m,\n",
       "    \u001b[32m\"behind\"\u001b[39m,\n",
       "    \u001b[32m\"standing\"\u001b[39m,\n",
       "    \u001b[32m\"left\"\u001b[39m,\n",
       "    \u001b[32m\"raising\"\u001b[39m,\n",
       "    \u001b[32m\"right\"\u001b[39m,\n",
       "    \u001b[32m\"hand\"\u001b[39m,\n",
       "    \u001b[32m\"and\"\u001b[39m,\n",
       "    \u001b[32m\"holding\"\u001b[39m,\n",
       "    \u001b[32m\"globe\"\u001b[39m,\n",
       "    \u001b[32m\"close\"\u001b[39m,\n",
       "    \u001b[32m\"to\"\u001b[39m,\n",
       "    \u001b[32m\"body\"\u001b[39m,\n",
       "    \u001b[32m\"in\"\u001b[39m,\n",
       "    \u001b[32m\"left\"\u001b[39m,\n",
       "    \u001b[32m\"hand\"\u001b[39m\n",
       "  ),\n",
       "  \u001b[33mVector\u001b[39m(\n",
       "    \u001b[32m\"constantine_i\"\u001b[39m,\n",
       "    \u001b[32m\"sol\"\u001b[39m,\n",
       "    \u001b[32m\"chlamys\"\u001b[39m,\n",
       "    \u001b[32m\"hanging\"\u001b[39m,\n",
       "    \u001b[32m\"behind\"\u001b[39m,\n",
       "    \u001b[32m\"standing\"\u001b[39m,\n",
       "    \u001b[32m\"left\"\u001b[39m,\n",
       "    \u001b[32m\"raising\"\u001b[39m,\n",
       "    \u001b[32m\"right\"\u001b[39m,\n",
       "    \u001b[32m\"hand\"\u001b[39m,\n",
       "    \u001b[32m\"and\"\u001b[39m,\n",
       "    \u001b[32m\"holding\"\u001b[39m,\n",
       "    \u001b[32m\"globe\"\u001b[39m,\n",
       "    \u001b[32m\"close\"\u001b[39m,\n",
       "    \u001b[32m\"to\"\u001b[39m,\n",
       "    \u001b[32m\"body\"\u001b[39m,\n",
       "..."
      ]
     },
     "execution_count": 15,
     "metadata": {},
     "output_type": "execute_result"
    }
   ],
   "source": [
    "val constantine_iGrouped = AuthHead.filter(_.contains(\"constantine_i\"))"
   ]
  },
  {
   "cell_type": "code",
   "execution_count": 16,
   "metadata": {},
   "outputs": [
    {
     "data": {
      "text/plain": [
       "\u001b[36mconstantine_iSumVector\u001b[39m: \u001b[32mVector\u001b[39m[\u001b[32mString\u001b[39m] = \u001b[33mVector\u001b[39m(\n",
       "  \u001b[32m\"constantine_i\"\u001b[39m,\n",
       "  \u001b[32m\"sol\"\u001b[39m,\n",
       "  \u001b[32m\"chlamys\"\u001b[39m,\n",
       "  \u001b[32m\"hanging\"\u001b[39m,\n",
       "  \u001b[32m\"behind\"\u001b[39m,\n",
       "  \u001b[32m\"standing\"\u001b[39m,\n",
       "  \u001b[32m\"left\"\u001b[39m,\n",
       "  \u001b[32m\"raising\"\u001b[39m,\n",
       "  \u001b[32m\"right\"\u001b[39m,\n",
       "  \u001b[32m\"hand\"\u001b[39m,\n",
       "  \u001b[32m\"and\"\u001b[39m,\n",
       "  \u001b[32m\"holding\"\u001b[39m,\n",
       "  \u001b[32m\"globe\"\u001b[39m,\n",
       "  \u001b[32m\"close\"\u001b[39m,\n",
       "  \u001b[32m\"to\"\u001b[39m,\n",
       "  \u001b[32m\"body\"\u001b[39m,\n",
       "  \u001b[32m\"in\"\u001b[39m,\n",
       "  \u001b[32m\"left\"\u001b[39m,\n",
       "  \u001b[32m\"hand\"\u001b[39m,\n",
       "  \u001b[32m\"constantine_i\"\u001b[39m,\n",
       "  \u001b[32m\"sol\"\u001b[39m,\n",
       "  \u001b[32m\"chlamys\"\u001b[39m,\n",
       "  \u001b[32m\"hanging\"\u001b[39m,\n",
       "  \u001b[32m\"behind\"\u001b[39m,\n",
       "  \u001b[32m\"standing\"\u001b[39m,\n",
       "  \u001b[32m\"left\"\u001b[39m,\n",
       "  \u001b[32m\"raising\"\u001b[39m,\n",
       "  \u001b[32m\"right\"\u001b[39m,\n",
       "  \u001b[32m\"hand\"\u001b[39m,\n",
       "  \u001b[32m\"and\"\u001b[39m,\n",
       "  \u001b[32m\"holding\"\u001b[39m,\n",
       "  \u001b[32m\"globe\"\u001b[39m,\n",
       "  \u001b[32m\"close\"\u001b[39m,\n",
       "  \u001b[32m\"to\"\u001b[39m,\n",
       "  \u001b[32m\"body\"\u001b[39m,\n",
       "  \u001b[32m\"in\"\u001b[39m,\n",
       "  \u001b[32m\"left\"\u001b[39m,\n",
       "  \u001b[32m\"hand\"\u001b[39m,\n",
       "..."
      ]
     },
     "execution_count": 16,
     "metadata": {},
     "output_type": "execute_result"
    }
   ],
   "source": [
    "val constantine_iSumVector = constantine_iGrouped.flatten"
   ]
  },
  {
   "cell_type": "code",
   "execution_count": 17,
   "metadata": {},
   "outputs": [
    {
     "data": {
      "text/plain": [
       "\u001b[36mconstantine_iFF\u001b[39m: \u001b[32mVector\u001b[39m[\u001b[32mString\u001b[39m] = \u001b[33mVector\u001b[39m(\n",
       "  \u001b[32m\"sol\"\u001b[39m,\n",
       "  \u001b[32m\"chlamys\"\u001b[39m,\n",
       "  \u001b[32m\"globe\"\u001b[39m,\n",
       "  \u001b[32m\"close\"\u001b[39m,\n",
       "  \u001b[32m\"body\"\u001b[39m,\n",
       "  \u001b[32m\"sol\"\u001b[39m,\n",
       "  \u001b[32m\"chlamys\"\u001b[39m,\n",
       "  \u001b[32m\"globe\"\u001b[39m,\n",
       "  \u001b[32m\"close\"\u001b[39m,\n",
       "  \u001b[32m\"body\"\u001b[39m,\n",
       "  \u001b[32m\"sol\"\u001b[39m,\n",
       "  \u001b[32m\"chlamys\"\u001b[39m,\n",
       "  \u001b[32m\"globe\"\u001b[39m,\n",
       "  \u001b[32m\"sol\"\u001b[39m,\n",
       "  \u001b[32m\"chlamys\"\u001b[39m,\n",
       "  \u001b[32m\"globe\"\u001b[39m,\n",
       "  \u001b[32m\"sol\"\u001b[39m,\n",
       "  \u001b[32m\"chlamys\"\u001b[39m,\n",
       "  \u001b[32m\"globe\"\u001b[39m,\n",
       "  \u001b[32m\"roma\"\u001b[39m,\n",
       "  \u001b[32m\"head\"\u001b[39m,\n",
       "  \u001b[32m\"hexastyle\"\u001b[39m,\n",
       "  \u001b[32m\"temple\"\u001b[39m,\n",
       "  \u001b[32m\"globe\"\u001b[39m,\n",
       "  \u001b[32m\"sceptre\"\u001b[39m,\n",
       "  \u001b[32m\"shield\"\u001b[39m,\n",
       "  \u001b[32m\"pediment\"\u001b[39m,\n",
       "  \u001b[32m\"wreath\"\u001b[39m,\n",
       "  \u001b[32m\"mars\"\u001b[39m,\n",
       "  \u001b[32m\"spear\"\u001b[39m,\n",
       "  \u001b[32m\"or\"\u001b[39m,\n",
       "  \u001b[32m\"sceptre\"\u001b[39m,\n",
       "  \u001b[32m\"shield\"\u001b[39m,\n",
       "  \u001b[32m\"mars\"\u001b[39m,\n",
       "  \u001b[32m\"head\"\u001b[39m,\n",
       "  \u001b[32m\"spear\"\u001b[39m,\n",
       "  \u001b[32m\"or\"\u001b[39m,\n",
       "  \u001b[32m\"sceptre\"\u001b[39m,\n",
       "..."
      ]
     },
     "execution_count": 17,
     "metadata": {},
     "output_type": "execute_result"
    }
   ],
   "source": [
    "val constantine_iFF = constantine_iSumVector.filter(!_.contains(\"constantine_i\")).filter(!_.contains(\"extending\")).filter(!_.contains(\"left\")).filter(!_.contains(\"right\")).filter(!_.contains(\"and\")).filter(!_.contains(\"on\")).filter(!_.contains(\"to\")).filter(!_.contains(\"of\"))\n",
    ".filter(!_.contains(\"with\")).filter(!_.contains(\"up\")).filter(!_.contains(\"him\")).filter(!_.contains(\"over\")).filter(!_.contains(\"in\")).filter(!_.contains(\"up\")).filter(!_.contains(\"for\"))\n",
    ".filter(!_.endsWith(\"ed\")).filter(!_.endsWith(\"ing\"))\n",
    ".filter(!_.contains(\"each\")).filter(!_.contains(\"other\")).filter(!_.contains(\"by\")).filter(!_.contains(\"VOT\"))\n",
    ".filter(!_.contains(\"Two\")).filter(!_.contains(\"two\")).filter(!_.contains(\"above\")).filter(!_.contains(\"across\"))"
   ]
  },
  {
   "cell_type": "code",
   "execution_count": 18,
   "metadata": {},
   "outputs": [
    {
     "data": {
      "text/plain": [
       "\u001b[36mconstantine_iRegrouped\u001b[39m: \u001b[32mMap\u001b[39m[\u001b[32mString\u001b[39m, \u001b[32mVector\u001b[39m[\u001b[32mString\u001b[39m]] = \u001b[33mMap\u001b[39m(\n",
       "  \u001b[32m\"beneath\"\u001b[39m -> \u001b[33mVector\u001b[39m(\n",
       "    \u001b[32m\"beneath\"\u001b[39m,\n",
       "    \u001b[32m\"beneath\"\u001b[39m,\n",
       "    \u001b[32m\"beneath\"\u001b[39m,\n",
       "    \u001b[32m\"beneath\"\u001b[39m,\n",
       "    \u001b[32m\"beneath\"\u001b[39m,\n",
       "    \u001b[32m\"beneath\"\u001b[39m,\n",
       "    \u001b[32m\"beneath\"\u001b[39m,\n",
       "    \u001b[32m\"beneath\"\u001b[39m,\n",
       "    \u001b[32m\"beneath\"\u001b[39m\n",
       "  ),\n",
       "  \u001b[32m\"liquid\"\u001b[39m -> \u001b[33mVector\u001b[39m(\n",
       "    \u001b[32m\"liquid\"\u001b[39m,\n",
       "    \u001b[32m\"liquid\"\u001b[39m,\n",
       "    \u001b[32m\"liquid\"\u001b[39m,\n",
       "    \u001b[32m\"liquid\"\u001b[39m,\n",
       "    \u001b[32m\"liquid\"\u001b[39m,\n",
       "    \u001b[32m\"liquid\"\u001b[39m,\n",
       "    \u001b[32m\"liquid\"\u001b[39m,\n",
       "    \u001b[32m\"liquid\"\u001b[39m\n",
       "  ),\n",
       "  \u001b[32m\"sceptres\"\u001b[39m -> \u001b[33mVector\u001b[39m(\n",
       "    \u001b[32m\"sceptres\"\u001b[39m,\n",
       "    \u001b[32m\"sceptres\"\u001b[39m,\n",
       "    \u001b[32m\"sceptres\"\u001b[39m,\n",
       "    \u001b[32m\"sceptres\"\u001b[39m,\n",
       "    \u001b[32m\"sceptres\"\u001b[39m,\n",
       "    \u001b[32m\"sceptres\"\u001b[39m\n",
       "  ),\n",
       "  \u001b[32m\"anchises\"\u001b[39m -> \u001b[33mVector\u001b[39m(\u001b[32m\"anchises\"\u001b[39m),\n",
       "  \u001b[32m\"wreaths\"\u001b[39m -> \u001b[33mVector\u001b[39m(\u001b[32m\"wreaths\"\u001b[39m, \u001b[32m\"wreaths\"\u001b[39m, \u001b[32m\"wreaths\"\u001b[39m, \u001b[32m\"wreaths\"\u001b[39m),\n",
       "  \u001b[32m\"salus\"\u001b[39m -> \u001b[33mVector\u001b[39m(\n",
       "    \u001b[32m\"salus\"\u001b[39m,\n",
       "    \u001b[32m\"salus\"\u001b[39m,\n",
       "    \u001b[32m\"salus\"\u001b[39m,\n",
       "    \u001b[32m\"salus\"\u001b[39m,\n",
       "    \u001b[32m\"salus\"\u001b[39m,\n",
       "    \u001b[32m\"salus\"\u001b[39m,\n",
       "..."
      ]
     },
     "execution_count": 18,
     "metadata": {},
     "output_type": "execute_result"
    }
   ],
   "source": [
    "val constantine_iRegrouped = constantine_iFF.groupBy(word => word)"
   ]
  },
  {
   "cell_type": "code",
   "execution_count": 19,
   "metadata": {},
   "outputs": [
    {
     "data": {
      "text/plain": [
       "\u001b[36mconstantine_iCount\u001b[39m: \u001b[32mMap\u001b[39m[\u001b[32mString\u001b[39m, \u001b[32mInt\u001b[39m] = \u001b[33mMap\u001b[39m(\n",
       "  \u001b[32m\"beneath\"\u001b[39m -> \u001b[32m9\u001b[39m,\n",
       "  \u001b[32m\"liquid\"\u001b[39m -> \u001b[32m8\u001b[39m,\n",
       "  \u001b[32m\"sceptres\"\u001b[39m -> \u001b[32m6\u001b[39m,\n",
       "  \u001b[32m\"anchises\"\u001b[39m -> \u001b[32m1\u001b[39m,\n",
       "  \u001b[32m\"wreaths\"\u001b[39m -> \u001b[32m4\u001b[39m,\n",
       "  \u001b[32m\"salus\"\u001b[39m -> \u001b[32m10\u001b[39m,\n",
       "  \u001b[32m\"down\"\u001b[39m -> \u001b[32m4\u001b[39m,\n",
       "  \u001b[32m\"nimbate\"\u001b[39m -> \u001b[32m14\u001b[39m,\n",
       "  \u001b[32m\"side\"\u001b[39m -> \u001b[32m89\u001b[39m,\n",
       "  \u001b[32m\"bow\"\u001b[39m -> \u001b[32m23\u001b[39m,\n",
       "  \u001b[32m\"\"\u001b[39m -> \u001b[32m3\u001b[39m,\n",
       "  \u001b[32m\"number\"\u001b[39m -> \u001b[32m170\u001b[39m,\n",
       "  \u001b[32m\"felicitas\"\u001b[39m -> \u001b[32m10\u001b[39m,\n",
       "  \u001b[32m\"wreath\"\u001b[39m -> \u001b[32m537\u001b[39m,\n",
       "  \u001b[32m\"phoenix\"\u001b[39m -> \u001b[32m1\u001b[39m,\n",
       "  \u001b[32m\"vota\"\u001b[39m -> \u001b[32m5\u001b[39m,\n",
       "  \u001b[32m\"soldier\"\u001b[39m -> \u001b[32m30\u001b[39m,\n",
       "  \u001b[32m\"modius\"\u001b[39m -> \u001b[32m80\u001b[39m,\n",
       "  \u001b[32m\"x\"\u001b[39m -> \u001b[32m28\u001b[39m,\n",
       "  \u001b[32m\"outer\"\u001b[39m -> \u001b[32m358\u001b[39m,\n",
       "  \u001b[32m\"dais\"\u001b[39m -> \u001b[32m1\u001b[39m,\n",
       "  \u001b[32m\"transverse\"\u001b[39m -> \u001b[32m206\u001b[39m,\n",
       "  \u001b[32m\"tempora\"\u001b[39m -> \u001b[32m3\u001b[39m,\n",
       "  \u001b[32m\"children\"\u001b[39m -> \u001b[32m51\u001b[39m,\n",
       "  \u001b[32m\"city\"\u001b[39m -> \u001b[32m1\u001b[39m,\n",
       "  \u001b[32m\"cornucopiae\"\u001b[39m -> \u001b[32m228\u001b[39m,\n",
       "  \u001b[32m\"stages\"\u001b[39m -> \u001b[32m1\u001b[39m,\n",
       "  \u001b[32m\"body\"\u001b[39m -> \u001b[32m34\u001b[39m,\n",
       "  \u001b[32m\"spread\"\u001b[39m -> \u001b[32m141\u001b[39m,\n",
       "  \u001b[32m\"palm-tree\"\u001b[39m -> \u001b[32m1\u001b[39m,\n",
       "  \u001b[32m\"layers\"\u001b[39m -> \u001b[32m233\u001b[39m,\n",
       "  \u001b[32m\"crook\"\u001b[39m -> \u001b[32m1\u001b[39m,\n",
       "  \u001b[32m\"vot/xx/mvlt/\\u2022xxx\\u2022\"\u001b[39m -> \u001b[32m9\u001b[39m,\n",
       "  \u001b[32m\"is\"\u001b[39m -> \u001b[32m5\u001b[39m,\n",
       "  \u001b[32m\"cippus\"\u001b[39m -> \u001b[32m19\u001b[39m,\n",
       "  \u001b[32m\"bust\"\u001b[39m -> \u001b[32m19\u001b[39m,\n",
       "  \u001b[32m\"his\"\u001b[39m -> \u001b[32m5\u001b[39m,\n",
       "  \u001b[32m\"spears\"\u001b[39m -> \u001b[32m3\u001b[39m,\n",
       "..."
      ]
     },
     "execution_count": 19,
     "metadata": {},
     "output_type": "execute_result"
    }
   ],
   "source": [
    "val constantine_iCount = constantine_iRegrouped.map{ case (a, v) => (a, v.size) } "
   ]
  },
  {
   "cell_type": "code",
   "execution_count": 20,
   "metadata": {},
   "outputs": [
    {
     "data": {
      "text/plain": [
       "\u001b[36mconstantine_i\u001b[39m: \u001b[32mVector\u001b[39m[(\u001b[32mString\u001b[39m, \u001b[32mInt\u001b[39m)] = \u001b[33mVector\u001b[39m(\n",
       "  (\u001b[32m\"globe\"\u001b[39m, \u001b[32m1175\u001b[39m),\n",
       "  (\u001b[32m\"shield\"\u001b[39m, \u001b[32m1027\u001b[39m),\n",
       "  (\u001b[32m\"spear\"\u001b[39m, \u001b[32m879\u001b[39m),\n",
       "  (\u001b[32m\"chlamys\"\u001b[39m, \u001b[32m738\u001b[39m),\n",
       "  (\u001b[32m\"sol\"\u001b[39m, \u001b[32m652\u001b[39m),\n",
       "  (\u001b[32m\"shoulder\"\u001b[39m, \u001b[32m651\u001b[39m),\n",
       "  (\u001b[32m\"a\"\u001b[39m, \u001b[32m636\u001b[39m),\n",
       "  (\u001b[32m\"wreath\"\u001b[39m, \u001b[32m537\u001b[39m),\n",
       "  (\u001b[32m\"altar\"\u001b[39m, \u001b[32m470\u001b[39m),\n",
       "  (\u001b[32m\"radiate\"\u001b[39m, \u001b[32m438\u001b[39m),\n",
       "  (\u001b[32m\"head\"\u001b[39m, \u001b[32m428\u001b[39m),\n",
       "  (\u001b[32m\"between\"\u001b[39m, \u001b[32m411\u001b[39m),\n",
       "  (\u001b[32m\"them\"\u001b[39m, \u001b[32m378\u001b[39m),\n",
       "  (\u001b[32m\"soldiers\"\u001b[39m, \u001b[32m371\u001b[39m),\n",
       "  (\u001b[32m\"outer\"\u001b[39m, \u001b[32m358\u001b[39m),\n",
       "  (\u001b[32m\"stars\"\u001b[39m, \u001b[32m354\u001b[39m),\n",
       "  (\u001b[32m\"three\"\u001b[39m, \u001b[32m317\u001b[39m),\n",
       "  (\u001b[32m\"laurel\"\u001b[39m, \u001b[32m312\u001b[39m),\n",
       "  (\u001b[32m\"sceptre\"\u001b[39m, \u001b[32m301\u001b[39m),\n",
       "  (\u001b[32m\"star\"\u001b[39m, \u001b[32m299\u001b[39m),\n",
       "  (\u001b[32m\"i\"\u001b[39m, \u001b[32m294\u001b[39m),\n",
       "  (\u001b[32m\"doors\"\u001b[39m, \u001b[32m276\u001b[39m),\n",
       "  (\u001b[32m\"camp\"\u001b[39m, \u001b[32m271\u001b[39m),\n",
       "  (\u001b[32m\"turrets\"\u001b[39m, \u001b[32m267\u001b[39m),\n",
       "  (\u001b[32m\"gate\"\u001b[39m, \u001b[32m267\u001b[39m),\n",
       "  (\u001b[32m\"layers\"\u001b[39m, \u001b[32m233\u001b[39m),\n",
       "  (\u001b[32m\"genius\"\u001b[39m, \u001b[32m228\u001b[39m),\n",
       "  (\u001b[32m\"cornucopiae\"\u001b[39m, \u001b[32m228\u001b[39m),\n",
       "  (\u001b[32m\"vot/xx\"\u001b[39m, \u001b[32m222\u001b[39m),\n",
       "  (\u001b[32m\"trophy\"\u001b[39m, \u001b[32m221\u001b[39m),\n",
       "  (\u001b[32m\"nude\"\u001b[39m, \u001b[32m217\u001b[39m),\n",
       "  (\u001b[32m\"transverse\"\u001b[39m, \u001b[32m206\u001b[39m),\n",
       "  (\u001b[32m\"mars\"\u001b[39m, \u001b[32m205\u001b[39m),\n",
       "  (\u001b[32m\"patera\"\u001b[39m, \u001b[32m192\u001b[39m),\n",
       "  (\u001b[32m\"captives\"\u001b[39m, \u001b[32m191\u001b[39m),\n",
       "  (\u001b[32m\"vot/is/xx\"\u001b[39m, \u001b[32m190\u001b[39m),\n",
       "  (\u001b[32m\"captive\"\u001b[39m, \u001b[32m178\u001b[39m),\n",
       "  (\u001b[32m\"vot/pr\"\u001b[39m, \u001b[32m172\u001b[39m),\n",
       "..."
      ]
     },
     "execution_count": 20,
     "metadata": {},
     "output_type": "execute_result"
    }
   ],
   "source": [
    "val constantine_i = constantine_iCount.toVector.sortBy(frequency => frequency._2).reverse"
   ]
  },
  {
   "cell_type": "code",
   "execution_count": null,
   "metadata": {},
   "outputs": [],
   "source": [
    "val cutOff2 = 50 \n",
    "val constantine_iterms = constantine_i.filter(frequency => frequency._2 > cutOff2)"
   ]
  },
  {
   "cell_type": "markdown",
   "metadata": {},
   "source": [
    "*Gallienus*"
   ]
  },
  {
   "cell_type": "code",
   "execution_count": 21,
   "metadata": {},
   "outputs": [
    {
     "data": {
      "text/plain": [
       "\u001b[36mgallienusGrouped\u001b[39m: \u001b[32mVector\u001b[39m[\u001b[32mVector\u001b[39m[\u001b[32mString\u001b[39m]] = \u001b[33mVector\u001b[39m(\n",
       "  \u001b[33mVector\u001b[39m(\n",
       "    \u001b[32m\"gallienus\"\u001b[39m,\n",
       "    \u001b[32m\"securitas\"\u001b[39m,\n",
       "    \u001b[32m\"draped\"\u001b[39m,\n",
       "    \u001b[32m\"standing\"\u001b[39m,\n",
       "    \u001b[32m\"left\"\u001b[39m,\n",
       "    \u001b[32m\"leaning\"\u001b[39m,\n",
       "    \u001b[32m\"on\"\u001b[39m,\n",
       "    \u001b[32m\"column\"\u001b[39m,\n",
       "    \u001b[32m\"holding\"\u001b[39m,\n",
       "    \u001b[32m\"globe\"\u001b[39m,\n",
       "    \u001b[32m\"in\"\u001b[39m,\n",
       "    \u001b[32m\"right\"\u001b[39m,\n",
       "    \u001b[32m\"hand\"\u001b[39m,\n",
       "    \u001b[32m\"and\"\u001b[39m,\n",
       "    \u001b[32m\"sceptre\"\u001b[39m,\n",
       "    \u001b[32m\"in\"\u001b[39m,\n",
       "    \u001b[32m\"left\"\u001b[39m,\n",
       "    \u001b[32m\"hand\"\u001b[39m\n",
       "  ),\n",
       "  \u001b[33mVector\u001b[39m(\n",
       "    \u001b[32m\"gallienus\"\u001b[39m,\n",
       "    \u001b[32m\"pax\"\u001b[39m,\n",
       "    \u001b[32m\"draped\"\u001b[39m,\n",
       "    \u001b[32m\"standing\"\u001b[39m,\n",
       "    \u001b[32m\"left\"\u001b[39m,\n",
       "    \u001b[32m\"holding\"\u001b[39m,\n",
       "    \u001b[32m\"spear\"\u001b[39m,\n",
       "    \u001b[32m\"in\"\u001b[39m,\n",
       "    \u001b[32m\"right\"\u001b[39m,\n",
       "    \u001b[32m\"hand\"\u001b[39m,\n",
       "    \u001b[32m\"and\"\u001b[39m,\n",
       "    \u001b[32m\"shield\"\u001b[39m,\n",
       "    \u001b[32m\"in\"\u001b[39m,\n",
       "    \u001b[32m\"left\"\u001b[39m,\n",
       "    \u001b[32m\"hand\"\u001b[39m\n",
       "  ),\n",
       "  \u001b[33mVector\u001b[39m(\n",
       "...\n",
       "\u001b[36mgallienusSumVector\u001b[39m: \u001b[32mVector\u001b[39m[\u001b[32mString\u001b[39m] = \u001b[33mVector\u001b[39m(\n",
       "  \u001b[32m\"gallienus\"\u001b[39m,\n",
       "  \u001b[32m\"securitas\"\u001b[39m,\n",
       "  \u001b[32m\"draped\"\u001b[39m,\n",
       "  \u001b[32m\"standing\"\u001b[39m,\n",
       "  \u001b[32m\"left\"\u001b[39m,\n",
       "  \u001b[32m\"leaning\"\u001b[39m,\n",
       "  \u001b[32m\"on\"\u001b[39m,\n",
       "  \u001b[32m\"column\"\u001b[39m,\n",
       "  \u001b[32m\"holding\"\u001b[39m,\n",
       "  \u001b[32m\"globe\"\u001b[39m,\n",
       "  \u001b[32m\"in\"\u001b[39m,\n",
       "  \u001b[32m\"right\"\u001b[39m,\n",
       "  \u001b[32m\"hand\"\u001b[39m,\n",
       "  \u001b[32m\"and\"\u001b[39m,\n",
       "  \u001b[32m\"sceptre\"\u001b[39m,\n",
       "  \u001b[32m\"in\"\u001b[39m,\n",
       "  \u001b[32m\"left\"\u001b[39m,\n",
       "  \u001b[32m\"hand\"\u001b[39m,\n",
       "  \u001b[32m\"gallienus\"\u001b[39m,\n",
       "  \u001b[32m\"pax\"\u001b[39m,\n",
       "  \u001b[32m\"draped\"\u001b[39m,\n",
       "  \u001b[32m\"standing\"\u001b[39m,\n",
       "  \u001b[32m\"left\"\u001b[39m,\n",
       "  \u001b[32m\"holding\"\u001b[39m,\n",
       "  \u001b[32m\"spear\"\u001b[39m,\n",
       "  \u001b[32m\"in\"\u001b[39m,\n",
       "  \u001b[32m\"right\"\u001b[39m,\n",
       "  \u001b[32m\"hand\"\u001b[39m,\n",
       "  \u001b[32m\"and\"\u001b[39m,\n",
       "  \u001b[32m\"shield\"\u001b[39m,\n",
       "  \u001b[32m\"in\"\u001b[39m,\n",
       "  \u001b[32m\"left\"\u001b[39m,\n",
       "  \u001b[32m\"hand\"\u001b[39m,\n",
       "  \u001b[32m\"gallienus\"\u001b[39m,\n",
       "  \u001b[32m\"pax\"\u001b[39m,\n",
       "  \u001b[32m\"draped\"\u001b[39m,\n",
       "  \u001b[32m\"walking\"\u001b[39m,\n",
       "  \u001b[32m\"left\"\u001b[39m,\n",
       "..."
      ]
     },
     "execution_count": 21,
     "metadata": {},
     "output_type": "execute_result"
    }
   ],
   "source": [
    "val gallienusGrouped = AuthHead.filter(_.contains(\"gallienus\"))\n",
    "val gallienusSumVector = gallienusGrouped.flatten"
   ]
  },
  {
   "cell_type": "code",
   "execution_count": 22,
   "metadata": {},
   "outputs": [
    {
     "data": {
      "text/plain": [
       "\u001b[36mgallienusFF\u001b[39m: \u001b[32mVector\u001b[39m[\u001b[32mString\u001b[39m] = \u001b[33mVector\u001b[39m(\n",
       "  \u001b[32m\"securitas\"\u001b[39m,\n",
       "  \u001b[32m\"column\"\u001b[39m,\n",
       "  \u001b[32m\"globe\"\u001b[39m,\n",
       "  \u001b[32m\"sceptre\"\u001b[39m,\n",
       "  \u001b[32m\"pax\"\u001b[39m,\n",
       "  \u001b[32m\"spear\"\u001b[39m,\n",
       "  \u001b[32m\"shield\"\u001b[39m,\n",
       "  \u001b[32m\"pax\"\u001b[39m,\n",
       "  \u001b[32m\"olive-branch\"\u001b[39m,\n",
       "  \u001b[32m\"sceptre\"\u001b[39m,\n",
       "  \u001b[32m\"pax\"\u001b[39m,\n",
       "  \u001b[32m\"olive-branch\"\u001b[39m,\n",
       "  \u001b[32m\"sceptre\"\u001b[39m,\n",
       "  \u001b[32m\"pax\"\u001b[39m,\n",
       "  \u001b[32m\"olive-branch\"\u001b[39m,\n",
       "  \u001b[32m\"sceptre\"\u001b[39m,\n",
       "  \u001b[32m\"pax\"\u001b[39m,\n",
       "  \u001b[32m\"olive-branch\"\u001b[39m,\n",
       "  \u001b[32m\"sceptre\"\u001b[39m,\n",
       "  \u001b[32m\"sol\"\u001b[39m,\n",
       "  \u001b[32m\"radiate\"\u001b[39m,\n",
       "  \u001b[32m\"nude\"\u001b[39m,\n",
       "  \u001b[32m\"except\"\u001b[39m,\n",
       "  \u001b[32m\"cloak\"\u001b[39m,\n",
       "  \u001b[32m\"shoulders\"\u001b[39m,\n",
       "  \u001b[32m\"whip\"\u001b[39m,\n",
       "  \u001b[32m\"sol\"\u001b[39m,\n",
       "  \u001b[32m\"radiate\"\u001b[39m,\n",
       "  \u001b[32m\"nude\"\u001b[39m,\n",
       "  \u001b[32m\"except\"\u001b[39m,\n",
       "  \u001b[32m\"cloak\"\u001b[39m,\n",
       "  \u001b[32m\"shoulders\"\u001b[39m,\n",
       "  \u001b[32m\"whip\"\u001b[39m,\n",
       "  \u001b[32m\"sol\"\u001b[39m,\n",
       "  \u001b[32m\"radiate\"\u001b[39m,\n",
       "  \u001b[32m\"nude\"\u001b[39m,\n",
       "  \u001b[32m\"except\"\u001b[39m,\n",
       "  \u001b[32m\"cloak\"\u001b[39m,\n",
       "..."
      ]
     },
     "execution_count": 22,
     "metadata": {},
     "output_type": "execute_result"
    }
   ],
   "source": [
    "val gallienusFF = gallienusSumVector.filter(!_.contains(\"gallienus\")).filter(!_.contains(\"extending\")).filter(!_.contains(\"left\")).filter(!_.contains(\"right\")).filter(!_.contains(\"and\")).filter(!_.contains(\"on\")).filter(!_.contains(\"to\"))\n",
    ".filter(!_.contains(\"with\")).filter(!_.contains(\"up\")).filter(!_.contains(\"him\")).filter(!_.contains(\"over\")).filter(!_.contains(\"in\")).filter(!_.contains(\"up\")).filter(!_.contains(\"for\"))\n",
    ".filter(!_.endsWith(\"ed\")).filter(!_.endsWith(\"ing\"))\n",
    ".filter(!_.contains(\"each\")).filter(!_.contains(\"other\")).filter(!_.contains(\"by\")).filter(!_.contains(\"VOT\"))\n",
    ".filter(!_.contains(\"Two\")).filter(!_.contains(\"two\")).filter(!_.contains(\"above\")).filter(!_.contains(\"across\"))"
   ]
  },
  {
   "cell_type": "code",
   "execution_count": 23,
   "metadata": {},
   "outputs": [
    {
     "data": {
      "text/plain": [
       "\u001b[36mgallienusRegrouped\u001b[39m: \u001b[32mMap\u001b[39m[\u001b[32mString\u001b[39m, \u001b[32mVector\u001b[39m[\u001b[32mString\u001b[39m]] = \u001b[33mMap\u001b[39m(\n",
       "  \u001b[32m\"beneath\"\u001b[39m -> \u001b[33mVector\u001b[39m(\u001b[32m\"beneath\"\u001b[39m, \u001b[32m\"beneath\"\u001b[39m),\n",
       "  \u001b[32m\"diadem\"\u001b[39m -> \u001b[33mVector\u001b[39m(\u001b[32m\"diadem\"\u001b[39m, \u001b[32m\"diadem\"\u001b[39m, \u001b[32m\"diadem\"\u001b[39m, \u001b[32m\"diadem\"\u001b[39m, \u001b[32m\"diadem\"\u001b[39m),\n",
       "  \u001b[32m\"salus\"\u001b[39m -> \u001b[33mVector\u001b[39m(\n",
       "    \u001b[32m\"salus\"\u001b[39m,\n",
       "    \u001b[32m\"salus\"\u001b[39m,\n",
       "    \u001b[32m\"salus\"\u001b[39m,\n",
       "    \u001b[32m\"salus\"\u001b[39m,\n",
       "    \u001b[32m\"salus\"\u001b[39m,\n",
       "    \u001b[32m\"salus\"\u001b[39m,\n",
       "    \u001b[32m\"salus\"\u001b[39m,\n",
       "    \u001b[32m\"salus\"\u001b[39m,\n",
       "    \u001b[32m\"salus\"\u001b[39m,\n",
       "    \u001b[32m\"salus\"\u001b[39m,\n",
       "    \u001b[32m\"salus\"\u001b[39m,\n",
       "    \u001b[32m\"salus\"\u001b[39m,\n",
       "    \u001b[32m\"salus\"\u001b[39m,\n",
       "    \u001b[32m\"salus\"\u001b[39m,\n",
       "    \u001b[32m\"salus\"\u001b[39m,\n",
       "    \u001b[32m\"salus\"\u001b[39m,\n",
       "    \u001b[32m\"salus\"\u001b[39m,\n",
       "    \u001b[32m\"salus\"\u001b[39m,\n",
       "    \u001b[32m\"salus\"\u001b[39m,\n",
       "    \u001b[32m\"salus\"\u001b[39m,\n",
       "    \u001b[32m\"salus\"\u001b[39m,\n",
       "    \u001b[32m\"salus\"\u001b[39m,\n",
       "    \u001b[32m\"salus\"\u001b[39m,\n",
       "    \u001b[32m\"salus\"\u001b[39m,\n",
       "    \u001b[32m\"salus\"\u001b[39m,\n",
       "    \u001b[32m\"salus\"\u001b[39m,\n",
       "    \u001b[32m\"salus\"\u001b[39m,\n",
       "    \u001b[32m\"salus\"\u001b[39m,\n",
       "    \u001b[32m\"salus\"\u001b[39m,\n",
       "    \u001b[32m\"salus\"\u001b[39m,\n",
       "    \u001b[32m\"salus\"\u001b[39m,\n",
       "    \u001b[32m\"salus\"\u001b[39m,\n",
       "    \u001b[32m\"salus\"\u001b[39m,\n",
       "    \u001b[32m\"salus\"\u001b[39m,\n",
       "    \u001b[32m\"salus\"\u001b[39m,\n",
       "...\n",
       "\u001b[36mgallienusCount\u001b[39m: \u001b[32mMap\u001b[39m[\u001b[32mString\u001b[39m, \u001b[32mInt\u001b[39m] = \u001b[33mMap\u001b[39m(\n",
       "  \u001b[32m\"beneath\"\u001b[39m -> \u001b[32m2\u001b[39m,\n",
       "  \u001b[32m\"diadem\"\u001b[39m -> \u001b[32m5\u001b[39m,\n",
       "  \u001b[32m\"salus\"\u001b[39m -> \u001b[32m67\u001b[39m,\n",
       "  \u001b[32m\"down\"\u001b[39m -> \u001b[32m16\u001b[39m,\n",
       "  \u001b[32m\"side\"\u001b[39m -> \u001b[32m1\u001b[39m,\n",
       "  \u001b[32m\"anchor\"\u001b[39m -> \u001b[32m95\u001b[39m,\n",
       "  \u001b[32m\"bow\"\u001b[39m -> \u001b[32m26\u001b[39m,\n",
       "  \u001b[32m\"peacock\"\u001b[39m -> \u001b[32m6\u001b[39m,\n",
       "  \u001b[32m\"\"\u001b[39m -> \u001b[32m6\u001b[39m,\n",
       "  \u001b[32m\"hippocamp\"\u001b[39m -> \u001b[32m20\u001b[39m,\n",
       "  \u001b[32m\"felicitas\"\u001b[39m -> \u001b[32m75\u001b[39m,\n",
       "  \u001b[32m\"wreath\"\u001b[39m -> \u001b[32m386\u001b[39m,\n",
       "  \u001b[32m\"savus\"\u001b[39m -> \u001b[32m4\u001b[39m,\n",
       "  \u001b[32m\"providentia\"\u001b[39m -> \u001b[32m243\u001b[39m,\n",
       "  \u001b[32m\"laetitia\"\u001b[39m -> \u001b[32m87\u001b[39m,\n",
       "  \u001b[32m\"wild\"\u001b[39m -> \u001b[32m2\u001b[39m,\n",
       "  \u001b[32m\"serapis\"\u001b[39m -> \u001b[32m2\u001b[39m,\n",
       "  \u001b[32m\"rock\"\u001b[39m -> \u001b[32m17\u001b[39m,\n",
       "  \u001b[32m\"soldier\"\u001b[39m -> \u001b[32m107\u001b[39m,\n",
       "  \u001b[32m\"post\"\u001b[39m -> \u001b[32m4\u001b[39m,\n",
       "  \u001b[32m\"modius\"\u001b[39m -> \u001b[32m18\u001b[39m,\n",
       "  \u001b[32m\"transverse\"\u001b[39m -> \u001b[32m3\u001b[39m,\n",
       "  \u001b[32m\"children\"\u001b[39m -> \u001b[32m4\u001b[39m,\n",
       "  \u001b[32m\"cornucopiae\"\u001b[39m -> \u001b[32m887\u001b[39m,\n",
       "  \u001b[32m\"gods\"\u001b[39m -> \u001b[32m2\u001b[39m,\n",
       "  \u001b[32m\"trophies\"\u001b[39m -> \u001b[32m2\u001b[39m,\n",
       "  \u001b[32m\"serpend\"\u001b[39m -> \u001b[32m1\u001b[39m,\n",
       "  \u001b[32m\"diana\"\u001b[39m -> \u001b[32m35\u001b[39m,\n",
       "  \u001b[32m\"trident\"\u001b[39m -> \u001b[32m4\u001b[39m,\n",
       "  \u001b[32m\"is\"\u001b[39m -> \u001b[32m4\u001b[39m,\n",
       "  \u001b[32m\"cippus\"\u001b[39m -> \u001b[32m5\u001b[39m,\n",
       "  \u001b[32m\"bust\"\u001b[39m -> \u001b[32m6\u001b[39m,\n",
       "  \u001b[32m\"his\"\u001b[39m -> \u001b[32m167\u001b[39m,\n",
       "  \u001b[32m\"rhea\"\u001b[39m -> \u001b[32m1\u001b[39m,\n",
       "  \u001b[32m\"spears\"\u001b[39m -> \u001b[32m1\u001b[39m,\n",
       "  \u001b[32m\"sceptre\"\u001b[39m -> \u001b[32m803\u001b[39m,\n",
       "  \u001b[32m\"romulus\"\u001b[39m -> \u001b[32m18\u001b[39m,\n",
       "  \u001b[32m\"pudicitia\"\u001b[39m -> \u001b[32m12\u001b[39m,\n",
       "..."
      ]
     },
     "execution_count": 23,
     "metadata": {},
     "output_type": "execute_result"
    }
   ],
   "source": [
    "val gallienusRegrouped = gallienusFF.groupBy(word => word)\n",
    "val gallienusCount = gallienusRegrouped.map{ case (a, v) => (a, v.size) } "
   ]
  },
  {
   "cell_type": "code",
   "execution_count": 24,
   "metadata": {},
   "outputs": [
    {
     "data": {
      "text/plain": [
       "\u001b[36mgallienus\u001b[39m: \u001b[32mVector\u001b[39m[(\u001b[32mString\u001b[39m, \u001b[32mInt\u001b[39m)] = \u001b[33mVector\u001b[39m(\n",
       "  (\u001b[32m\"cornucopiae\"\u001b[39m, \u001b[32m887\u001b[39m),\n",
       "  (\u001b[32m\"sceptre\"\u001b[39m, \u001b[32m803\u001b[39m),\n",
       "  (\u001b[32m\"globe\"\u001b[39m, \u001b[32m554\u001b[39m),\n",
       "  (\u001b[32m\"spear\"\u001b[39m, \u001b[32m546\u001b[39m),\n",
       "  (\u001b[32m\"shield\"\u001b[39m, \u001b[32m465\u001b[39m),\n",
       "  (\u001b[32m\"sometimes\"\u001b[39m, \u001b[32m450\u001b[39m),\n",
       "  (\u001b[32m\"at\"\u001b[39m, \u001b[32m440\u001b[39m),\n",
       "  (\u001b[32m\"or\"\u001b[39m, \u001b[32m409\u001b[39m),\n",
       "  (\u001b[32m\"feet\"\u001b[39m, \u001b[32m388\u001b[39m),\n",
       "  (\u001b[32m\"wreath\"\u001b[39m, \u001b[32m386\u001b[39m),\n",
       "  (\u001b[32m\"patera\"\u001b[39m, \u001b[32m362\u001b[39m),\n",
       "  (\u001b[32m\"altar\"\u001b[39m, \u001b[32m332\u001b[39m),\n",
       "  (\u001b[32m\"olive-branch\"\u001b[39m, \u001b[32m257\u001b[39m),\n",
       "  (\u001b[32m\"providentia\"\u001b[39m, \u001b[32m243\u001b[39m),\n",
       "  (\u001b[32m\"palm\"\u001b[39m, \u001b[32m238\u001b[39m),\n",
       "  (\u001b[32m\"nude\"\u001b[39m, \u001b[32m237\u001b[39m),\n",
       "  (\u001b[32m\"ensign\"\u001b[39m, \u001b[32m232\u001b[39m),\n",
       "  (\u001b[32m\"her\"\u001b[39m, \u001b[32m227\u001b[39m),\n",
       "  (\u001b[32m\"genius\"\u001b[39m, \u001b[32m224\u001b[39m),\n",
       "  (\u001b[32m\"valerian\"\u001b[39m, \u001b[32m223\u001b[39m),\n",
       "  (\u001b[32m\"military\"\u001b[39m, \u001b[32m221\u001b[39m),\n",
       "  (\u001b[32m\"attire\"\u001b[39m, \u001b[32m221\u001b[39m),\n",
       "  (\u001b[32m\"mars\"\u001b[39m, \u001b[32m214\u001b[39m),\n",
       "  (\u001b[32m\"except\"\u001b[39m, \u001b[32m196\u001b[39m),\n",
       "  (\u001b[32m\"cloak\"\u001b[39m, \u001b[32m196\u001b[39m),\n",
       "  (\u001b[32m\"rudder\"\u001b[39m, \u001b[32m185\u001b[39m),\n",
       "  (\u001b[32m\"his\"\u001b[39m, \u001b[32m167\u001b[39m),\n",
       "  (\u001b[32m\"thunderbolt\"\u001b[39m, \u001b[32m161\u001b[39m),\n",
       "  (\u001b[32m\"pax\"\u001b[39m, \u001b[32m153\u001b[39m),\n",
       "  (\u001b[32m\"radiate\"\u001b[39m, \u001b[32m132\u001b[39m),\n",
       "  (\u001b[32m\"scales\"\u001b[39m, \u001b[32m130\u001b[39m),\n",
       "  (\u001b[32m\"sol\"\u001b[39m, \u001b[32m122\u001b[39m),\n",
       "  (\u001b[32m\"of\"\u001b[39m, \u001b[32m118\u001b[39m),\n",
       "  (\u001b[32m\"aequitas\"\u001b[39m, \u001b[32m111\u001b[39m),\n",
       "  (\u001b[32m\"caduceus\"\u001b[39m, \u001b[32m110\u001b[39m),\n",
       "  (\u001b[32m\"shoulders\"\u001b[39m, \u001b[32m109\u001b[39m),\n",
       "  (\u001b[32m\"soldier\"\u001b[39m, \u001b[32m107\u001b[39m),\n",
       "  (\u001b[32m\"anchor\"\u001b[39m, \u001b[32m95\u001b[39m),\n",
       "..."
      ]
     },
     "execution_count": 24,
     "metadata": {},
     "output_type": "execute_result"
    }
   ],
   "source": [
    "val gallienus = gallienusCount.toVector.sortBy(frequency => frequency._2).reverse"
   ]
  },
  {
   "cell_type": "markdown",
   "metadata": {},
   "source": [
    "*Hadrian*"
   ]
  },
  {
   "cell_type": "code",
   "execution_count": 25,
   "metadata": {
    "collapsed": true
   },
   "outputs": [
    {
     "data": {
      "text/plain": [
       "\u001b[36mhadrianGrouped\u001b[39m: \u001b[32mVector\u001b[39m[\u001b[32mVector\u001b[39m[\u001b[32mString\u001b[39m]] = \u001b[33mVector\u001b[39m(\n",
       "  \u001b[33mVector\u001b[39m(\n",
       "    \u001b[32m\"hadrian\"\u001b[39m,\n",
       "    \u001b[32m\"securitas\"\u001b[39m,\n",
       "    \u001b[32m\"draped\"\u001b[39m,\n",
       "    \u001b[32m\"seated\"\u001b[39m,\n",
       "    \u001b[32m\"right\"\u001b[39m,\n",
       "    \u001b[32m\"on\"\u001b[39m,\n",
       "    \u001b[32m\"chair\"\u001b[39m,\n",
       "    \u001b[32m\"with\"\u001b[39m,\n",
       "    \u001b[32m\"cornucopiae\"\u001b[39m,\n",
       "    \u001b[32m\"for\"\u001b[39m,\n",
       "    \u001b[32m\"arms\"\u001b[39m,\n",
       "    \u001b[32m\"resting\"\u001b[39m,\n",
       "    \u001b[32m\"head\"\u001b[39m,\n",
       "    \u001b[32m\"on\"\u001b[39m,\n",
       "    \u001b[32m\"right\"\u001b[39m,\n",
       "    \u001b[32m\"hand\"\u001b[39m\n",
       "  ),\n",
       "  \u001b[33mVector\u001b[39m(\n",
       "    \u001b[32m\"hadrian\"\u001b[39m,\n",
       "    \u001b[32m\"trajan\"\u001b[39m,\n",
       "    \u001b[32m\"and\"\u001b[39m,\n",
       "    \u001b[32m\"hadrian\"\u001b[39m,\n",
       "    \u001b[32m\"both\"\u001b[39m,\n",
       "    \u001b[32m\"laureate\"\u001b[39m,\n",
       "    \u001b[32m\"and\"\u001b[39m,\n",
       "    \u001b[32m\"togate\"\u001b[39m,\n",
       "    \u001b[32m\"facing\"\u001b[39m,\n",
       "    \u001b[32m\"one\"\u001b[39m,\n",
       "    \u001b[32m\"another\"\u001b[39m,\n",
       "    \u001b[32m\"clasping\"\u001b[39m,\n",
       "    \u001b[32m\"right\"\u001b[39m,\n",
       "    \u001b[32m\"hands\"\u001b[39m,\n",
       "    \u001b[32m\"and\"\u001b[39m,\n",
       "    \u001b[32m\"holding\"\u001b[39m,\n",
       "    \u001b[32m\"rolls\"\u001b[39m,\n",
       "    \u001b[32m\"in\"\u001b[39m,\n",
       "    \u001b[32m\"their\"\u001b[39m,\n",
       "...\n",
       "\u001b[36mhadrianSumVector\u001b[39m: \u001b[32mVector\u001b[39m[\u001b[32mString\u001b[39m] = \u001b[33mVector\u001b[39m(\n",
       "  \u001b[32m\"hadrian\"\u001b[39m,\n",
       "  \u001b[32m\"securitas\"\u001b[39m,\n",
       "  \u001b[32m\"draped\"\u001b[39m,\n",
       "  \u001b[32m\"seated\"\u001b[39m,\n",
       "  \u001b[32m\"right\"\u001b[39m,\n",
       "  \u001b[32m\"on\"\u001b[39m,\n",
       "  \u001b[32m\"chair\"\u001b[39m,\n",
       "  \u001b[32m\"with\"\u001b[39m,\n",
       "  \u001b[32m\"cornucopiae\"\u001b[39m,\n",
       "  \u001b[32m\"for\"\u001b[39m,\n",
       "  \u001b[32m\"arms\"\u001b[39m,\n",
       "  \u001b[32m\"resting\"\u001b[39m,\n",
       "  \u001b[32m\"head\"\u001b[39m,\n",
       "  \u001b[32m\"on\"\u001b[39m,\n",
       "  \u001b[32m\"right\"\u001b[39m,\n",
       "  \u001b[32m\"hand\"\u001b[39m,\n",
       "  \u001b[32m\"hadrian\"\u001b[39m,\n",
       "  \u001b[32m\"trajan\"\u001b[39m,\n",
       "  \u001b[32m\"and\"\u001b[39m,\n",
       "  \u001b[32m\"hadrian\"\u001b[39m,\n",
       "  \u001b[32m\"both\"\u001b[39m,\n",
       "  \u001b[32m\"laureate\"\u001b[39m,\n",
       "  \u001b[32m\"and\"\u001b[39m,\n",
       "  \u001b[32m\"togate\"\u001b[39m,\n",
       "  \u001b[32m\"facing\"\u001b[39m,\n",
       "  \u001b[32m\"one\"\u001b[39m,\n",
       "  \u001b[32m\"another\"\u001b[39m,\n",
       "  \u001b[32m\"clasping\"\u001b[39m,\n",
       "  \u001b[32m\"right\"\u001b[39m,\n",
       "  \u001b[32m\"hands\"\u001b[39m,\n",
       "  \u001b[32m\"and\"\u001b[39m,\n",
       "  \u001b[32m\"holding\"\u001b[39m,\n",
       "  \u001b[32m\"rolls\"\u001b[39m,\n",
       "  \u001b[32m\"in\"\u001b[39m,\n",
       "  \u001b[32m\"their\"\u001b[39m,\n",
       "  \u001b[32m\"left\"\u001b[39m,\n",
       "  \u001b[32m\"hands\"\u001b[39m,\n",
       "  \u001b[32m\"trajan\"\u001b[39m,\n",
       "..."
      ]
     },
     "execution_count": 25,
     "metadata": {},
     "output_type": "execute_result"
    }
   ],
   "source": [
    "val hadrianGrouped = AuthHead.filter(_.contains(\"hadrian\"))\n",
    "val hadrianSumVector = hadrianGrouped.flatten"
   ]
  },
  {
   "cell_type": "code",
   "execution_count": 26,
   "metadata": {},
   "outputs": [
    {
     "data": {
      "text/plain": [
       "\u001b[36mhadrianFF\u001b[39m: \u001b[32mVector\u001b[39m[\u001b[32mString\u001b[39m] = \u001b[33mVector\u001b[39m(\n",
       "  \u001b[32m\"securitas\"\u001b[39m,\n",
       "  \u001b[32m\"chair\"\u001b[39m,\n",
       "  \u001b[32m\"cornucopiae\"\u001b[39m,\n",
       "  \u001b[32m\"arms\"\u001b[39m,\n",
       "  \u001b[32m\"head\"\u001b[39m,\n",
       "  \u001b[32m\"trajan\"\u001b[39m,\n",
       "  \u001b[32m\"both\"\u001b[39m,\n",
       "  \u001b[32m\"laureate\"\u001b[39m,\n",
       "  \u001b[32m\"rolls\"\u001b[39m,\n",
       "  \u001b[32m\"their\"\u001b[39m,\n",
       "  \u001b[32m\"trajan\"\u001b[39m,\n",
       "  \u001b[32m\"bust\"\u001b[39m,\n",
       "  \u001b[32m\"laureate\"\u001b[39m,\n",
       "  \u001b[32m\"shoulder\"\u001b[39m,\n",
       "  \u001b[32m\"the\"\u001b[39m,\n",
       "  \u001b[32m\"genius\"\u001b[39m,\n",
       "  \u001b[32m\"the\"\u001b[39m,\n",
       "  \u001b[32m\"roman\"\u001b[39m,\n",
       "  \u001b[32m\"people\"\u001b[39m,\n",
       "  \u001b[32m\"altar\"\u001b[39m,\n",
       "  \u001b[32m\"center\"\u001b[39m,\n",
       "  \u001b[32m\"thunderbolt\"\u001b[39m,\n",
       "  \u001b[32m\"globe\"\u001b[39m,\n",
       "  \u001b[32m\"eagle\"\u001b[39m,\n",
       "  \u001b[32m\"center\"\u001b[39m,\n",
       "  \u001b[32m\"roma\"\u001b[39m,\n",
       "  \u001b[32m\"military\"\u001b[39m,\n",
       "  \u001b[32m\"dress\"\u001b[39m,\n",
       "  \u001b[32m\"spear\"\u001b[39m,\n",
       "  \u001b[32m\"who\"\u001b[39m,\n",
       "  \u001b[32m\"her\"\u001b[39m,\n",
       "  \u001b[32m\"roma\"\u001b[39m,\n",
       "  \u001b[32m\"military\"\u001b[39m,\n",
       "  \u001b[32m\"dress\"\u001b[39m,\n",
       "  \u001b[32m\"spear\"\u001b[39m,\n",
       "  \u001b[32m\"who\"\u001b[39m,\n",
       "  \u001b[32m\"her\"\u001b[39m,\n",
       "  \u001b[32m\"roma\"\u001b[39m,\n",
       "..."
      ]
     },
     "execution_count": 26,
     "metadata": {},
     "output_type": "execute_result"
    }
   ],
   "source": [
    "val hadrianFF = hadrianSumVector.filter(!_.contains(\"hadrian\")).filter(!_.contains(\"extending\")).filter(!_.contains(\"left\")).filter(!_.contains(\"right\")).filter(!_.contains(\"and\")).filter(!_.contains(\"on\")).filter(!_.contains(\"to\")).filter(!_.contains(\"of\"))\n",
    ".filter(!_.contains(\"with\")).filter(!_.contains(\"up\")).filter(!_.contains(\"him\")).filter(!_.contains(\"over\")).filter(!_.contains(\"in\")).filter(!_.contains(\"up\")).filter(!_.contains(\"for\"))\n",
    ".filter(!_.endsWith(\"ed\")).filter(!_.endsWith(\"ing\")).filter(!_.contains(\"Hadrian\"))\n",
    ".filter(!_.contains(\"each\")).filter(!_.contains(\"other\")).filter(!_.contains(\"by\")).filter(!_.contains(\"VOT\"))\n",
    ".filter(!_.contains(\"Two\")).filter(!_.contains(\"two\")).filter(!_.contains(\"above\")).filter(!_.contains(\"across\"))"
   ]
  },
  {
   "cell_type": "code",
   "execution_count": 27,
   "metadata": {},
   "outputs": [
    {
     "data": {
      "text/plain": [
       "\u001b[36mhadrianRegrouped\u001b[39m: \u001b[32mMap\u001b[39m[\u001b[32mString\u001b[39m, \u001b[32mVector\u001b[39m[\u001b[32mString\u001b[39m]] = \u001b[33mMap\u001b[39m(\n",
       "  \u001b[32m\"looks\"\u001b[39m -> \u001b[33mVector\u001b[39m(\n",
       "    \u001b[32m\"looks\"\u001b[39m,\n",
       "    \u001b[32m\"looks\"\u001b[39m,\n",
       "    \u001b[32m\"looks\"\u001b[39m,\n",
       "    \u001b[32m\"looks\"\u001b[39m,\n",
       "    \u001b[32m\"looks\"\u001b[39m,\n",
       "    \u001b[32m\"looks\"\u001b[39m,\n",
       "    \u001b[32m\"looks\"\u001b[39m,\n",
       "    \u001b[32m\"looks\"\u001b[39m,\n",
       "    \u001b[32m\"looks\"\u001b[39m,\n",
       "    \u001b[32m\"looks\"\u001b[39m\n",
       "  ),\n",
       "  \u001b[32m\"rostra\"\u001b[39m -> \u001b[33mVector\u001b[39m(\u001b[32m\"rostra\"\u001b[39m, \u001b[32m\"rostra\"\u001b[39m, \u001b[32m\"rostra\"\u001b[39m, \u001b[32m\"rostra\"\u001b[39m, \u001b[32m\"rostra\"\u001b[39m),\n",
       "  \u001b[32m\"liquid\"\u001b[39m -> \u001b[33mVector\u001b[39m(\u001b[32m\"liquid\"\u001b[39m),\n",
       "  \u001b[32m\"sword\"\u001b[39m -> \u001b[33mVector\u001b[39m(\n",
       "    \u001b[32m\"sword\"\u001b[39m,\n",
       "    \u001b[32m\"sword\"\u001b[39m,\n",
       "    \u001b[32m\"sword\"\u001b[39m,\n",
       "    \u001b[32m\"sword\"\u001b[39m,\n",
       "    \u001b[32m\"sword\"\u001b[39m,\n",
       "    \u001b[32m\"sword\"\u001b[39m,\n",
       "    \u001b[32m\"sword\"\u001b[39m,\n",
       "    \u001b[32m\"sword\"\u001b[39m,\n",
       "    \u001b[32m\"sword\"\u001b[39m,\n",
       "    \u001b[32m\"sword\"\u001b[39m,\n",
       "    \u001b[32m\"sword\"\u001b[39m,\n",
       "    \u001b[32m\"sword\"\u001b[39m,\n",
       "    \u001b[32m\"sword\"\u001b[39m,\n",
       "    \u001b[32m\"sword\"\u001b[39m,\n",
       "    \u001b[32m\"sword\"\u001b[39m,\n",
       "    \u001b[32m\"sword\"\u001b[39m,\n",
       "    \u001b[32m\"sword\"\u001b[39m,\n",
       "    \u001b[32m\"sword\"\u001b[39m,\n",
       "    \u001b[32m\"sword\"\u001b[39m,\n",
       "    \u001b[32m\"sword\"\u001b[39m,\n",
       "    \u001b[32m\"sword\"\u001b[39m,\n",
       "    \u001b[32m\"sword\"\u001b[39m,\n",
       "    \u001b[32m\"sword\"\u001b[39m,\n",
       "...\n",
       "\u001b[36mhadrianCount\u001b[39m: \u001b[32mMap\u001b[39m[\u001b[32mString\u001b[39m, \u001b[32mInt\u001b[39m] = \u001b[33mMap\u001b[39m(\n",
       "  \u001b[32m\"looks\"\u001b[39m -> \u001b[32m10\u001b[39m,\n",
       "  \u001b[32m\"rostra\"\u001b[39m -> \u001b[32m5\u001b[39m,\n",
       "  \u001b[32m\"liquid\"\u001b[39m -> \u001b[32m1\u001b[39m,\n",
       "  \u001b[32m\"sword\"\u001b[39m -> \u001b[32m41\u001b[39m,\n",
       "  \u001b[32m\"tridens\"\u001b[39m -> \u001b[32m2\u001b[39m,\n",
       "  \u001b[32m\"matidia\"\u001b[39m -> \u001b[32m1\u001b[39m,\n",
       "  \u001b[32m\"rowers\"\u001b[39m -> \u001b[32m61\u001b[39m,\n",
       "  \u001b[32m\"octastyle\"\u001b[39m -> \u001b[32m6\u001b[39m,\n",
       "  \u001b[32m\"salus\"\u001b[39m -> \u001b[32m71\u001b[39m,\n",
       "  \u001b[32m\"tympanum\"\u001b[39m -> \u001b[32m3\u001b[39m,\n",
       "  \u001b[32m\"down\"\u001b[39m -> \u001b[32m14\u001b[39m,\n",
       "  \u001b[32m\"side\"\u001b[39m -> \u001b[32m69\u001b[39m,\n",
       "  \u001b[32m\"anchor\"\u001b[39m -> \u001b[32m4\u001b[39m,\n",
       "  \u001b[32m\"bow\"\u001b[39m -> \u001b[32m23\u001b[39m,\n",
       "  \u001b[32m\"peacock\"\u001b[39m -> \u001b[32m2\u001b[39m,\n",
       "  \u001b[32m\"rod\"\u001b[39m -> \u001b[32m18\u001b[39m,\n",
       "  \u001b[32m\"pileus\"\u001b[39m -> \u001b[32m12\u001b[39m,\n",
       "  \u001b[32m\"\"\u001b[39m -> \u001b[32m42\u001b[39m,\n",
       "  \u001b[32m\"felicitas\"\u001b[39m -> \u001b[32m104\u001b[39m,\n",
       "  \u001b[32m\"wreath\"\u001b[39m -> \u001b[32m51\u001b[39m,\n",
       "  \u001b[32m\"providentia\"\u001b[39m -> \u001b[32m13\u001b[39m,\n",
       "  \u001b[32m\"phoenix\"\u001b[39m -> \u001b[32m4\u001b[39m,\n",
       "  \u001b[32m\"s\"\u001b[39m -> \u001b[32m12\u001b[39m,\n",
       "  \u001b[32m\"serapis\"\u001b[39m -> \u001b[32m2\u001b[39m,\n",
       "  \u001b[32m\"rock\"\u001b[39m -> \u001b[32m92\u001b[39m,\n",
       "  \u001b[32m\"soldier\"\u001b[39m -> \u001b[32m12\u001b[39m,\n",
       "  \u001b[32m\"palladium\"\u001b[39m -> \u001b[32m32\u001b[39m,\n",
       "  \u001b[32m\"canes\"\u001b[39m -> \u001b[32m4\u001b[39m,\n",
       "  \u001b[32m\"fourth\"\u001b[39m -> \u001b[32m3\u001b[39m,\n",
       "  \u001b[32m\"sea-eagle\"\u001b[39m -> \u001b[32m1\u001b[39m,\n",
       "  \u001b[32m\"lotus-flower\"\u001b[39m -> \u001b[32m2\u001b[39m,\n",
       "  \u001b[32m\"people\"\u001b[39m -> \u001b[32m7\u001b[39m,\n",
       "  \u001b[32m\"modius\"\u001b[39m -> \u001b[32m46\u001b[39m,\n",
       "  \u001b[32m\"transverse\"\u001b[39m -> \u001b[32m23\u001b[39m,\n",
       "  \u001b[32m\"children\"\u001b[39m -> \u001b[32m31\u001b[39m,\n",
       "  \u001b[32m\"divus\"\u001b[39m -> \u001b[32m14\u001b[39m,\n",
       "  \u001b[32m\"cornucopiae\"\u001b[39m -> \u001b[32m586\u001b[39m,\n",
       "  \u001b[32m\"body\"\u001b[39m -> \u001b[32m8\u001b[39m,\n",
       "..."
      ]
     },
     "execution_count": 27,
     "metadata": {},
     "output_type": "execute_result"
    }
   ],
   "source": [
    "val hadrianRegrouped = hadrianFF.groupBy(word => word)\n",
    "val hadrianCount = hadrianRegrouped.map{ case (a, v) => (a, v.size) } "
   ]
  },
  {
   "cell_type": "code",
   "execution_count": 28,
   "metadata": {},
   "outputs": [
    {
     "data": {
      "text/plain": [
       "\u001b[36mhadrian\u001b[39m: \u001b[32mVector\u001b[39m[(\u001b[32mString\u001b[39m, \u001b[32mInt\u001b[39m)] = \u001b[33mVector\u001b[39m(\n",
       "  (\u001b[32m\"cornucopiae\"\u001b[39m, \u001b[32m586\u001b[39m),\n",
       "  (\u001b[32m\"patera\"\u001b[39m, \u001b[32m371\u001b[39m),\n",
       "  (\u001b[32m\"sceptre\"\u001b[39m, \u001b[32m356\u001b[39m),\n",
       "  (\u001b[32m\"altar\"\u001b[39m, \u001b[32m322\u001b[39m),\n",
       "  (\u001b[32m\"vertical\"\u001b[39m, \u001b[32m309\u001b[39m),\n",
       "  (\u001b[32m\"roll\"\u001b[39m, \u001b[32m282\u001b[39m),\n",
       "  (\u001b[32m\"spear\"\u001b[39m, \u001b[32m254\u001b[39m),\n",
       "  (\u001b[32m\"arm\"\u001b[39m, \u001b[32m227\u001b[39m),\n",
       "  (\u001b[32m\"corn-ears\"\u001b[39m, \u001b[32m210\u001b[39m),\n",
       "  (\u001b[32m\"head\"\u001b[39m, \u001b[32m207\u001b[39m),\n",
       "  (\u001b[32m\"center\"\u001b[39m, \u001b[32m165\u001b[39m),\n",
       "  (\u001b[32m\"rudder\"\u001b[39m, \u001b[32m160\u001b[39m),\n",
       "  (\u001b[32m\"the\"\u001b[39m, \u001b[32m159\u001b[39m),\n",
       "  (\u001b[32m\"globe\"\u001b[39m, \u001b[32m144\u001b[39m),\n",
       "  (\u001b[32m\"branch\"\u001b[39m, \u001b[32m143\u001b[39m),\n",
       "  (\u001b[32m\"at\"\u001b[39m, \u001b[32m138\u001b[39m),\n",
       "  (\u001b[32m\"raise\"\u001b[39m, \u001b[32m133\u001b[39m),\n",
       "  (\u001b[32m\"roma\"\u001b[39m, \u001b[32m132\u001b[39m),\n",
       "  (\u001b[32m\"dress\"\u001b[39m, \u001b[32m130\u001b[39m),\n",
       "  (\u001b[32m\"her\"\u001b[39m, \u001b[32m127\u001b[39m),\n",
       "  (\u001b[32m\"out\"\u001b[39m, \u001b[32m117\u001b[39m),\n",
       "  (\u001b[32m\"military\"\u001b[39m, \u001b[32m105\u001b[39m),\n",
       "  (\u001b[32m\"felicitas\"\u001b[39m, \u001b[32m104\u001b[39m),\n",
       "  (\u001b[32m\"shield\"\u001b[39m, \u001b[32m103\u001b[39m),\n",
       "  (\u001b[32m\"a\"\u001b[39m, \u001b[32m101\u001b[39m),\n",
       "  (\u001b[32m\"foot\"\u001b[39m, \u001b[32m100\u001b[39m),\n",
       "  (\u001b[32m\"next\"\u001b[39m, \u001b[32m97\u001b[39m),\n",
       "  (\u001b[32m\"basket\"\u001b[39m, \u001b[32m96\u001b[39m),\n",
       "  (\u001b[32m\"caduceus\"\u001b[39m, \u001b[32m96\u001b[39m),\n",
       "  (\u001b[32m\"pietas\"\u001b[39m, \u001b[32m95\u001b[39m),\n",
       "  (\u001b[32m\"spes\"\u001b[39m, \u001b[32m93\u001b[39m),\n",
       "  (\u001b[32m\"rock\"\u001b[39m, \u001b[32m92\u001b[39m),\n",
       "  (\u001b[32m\"cloak\"\u001b[39m, \u001b[32m84\u001b[39m),\n",
       "  (\u001b[32m\"low\"\u001b[39m, \u001b[32m83\u001b[39m),\n",
       "  (\u001b[32m\"round\"\u001b[39m, \u001b[32m77\u001b[39m),\n",
       "  (\u001b[32m\"bull\"\u001b[39m, \u001b[32m75\u001b[39m),\n",
       "  (\u001b[32m\"palm\"\u001b[39m, \u001b[32m75\u001b[39m),\n",
       "  (\u001b[32m\"galley\"\u001b[39m, \u001b[32m75\u001b[39m),\n",
       "..."
      ]
     },
     "execution_count": 28,
     "metadata": {},
     "output_type": "execute_result"
    }
   ],
   "source": [
    "val hadrian = hadrianCount.toVector.sortBy(frequency => frequency._2).reverse"
   ]
  },
  {
   "cell_type": "markdown",
   "metadata": {},
   "source": [
    "This is just my experimentation with how easy it would be to apply the same code to another topic within the data set"
   ]
  },
  {
   "cell_type": "code",
   "execution_count": null,
   "metadata": {},
   "outputs": [],
   "source": [
    "val Denomination = data.map(columns => columns(2))\n",
    "val AuthAndDenom = data.map(columns => columns(4) + \" \" + columns(2))"
   ]
  },
  {
   "cell_type": "code",
   "execution_count": null,
   "metadata": {},
   "outputs": [],
   "source": [
    "val AuthHead2 = AuthAndDenom.map(ln => ln.split(\" \").toVector)"
   ]
  },
  {
   "cell_type": "code",
   "execution_count": null,
   "metadata": {},
   "outputs": [],
   "source": [
    "val gallienusGrouped2 = AuthHead2.filter(_.contains(\"gallienus\"))\n",
    "val gallienusSumVector2 = gallienusGrouped2.flatten\n",
    "val gallienusRegrouped2 = gallienusSumVector2.groupBy(word => word)\n",
    "val gallienusCount2 = gallienusRegrouped2.map{ case (a, v) => (a, v.size) } "
   ]
  },
  {
   "cell_type": "code",
   "execution_count": null,
   "metadata": {},
   "outputs": [],
   "source": [
    "val gallienus2 = gallienusCount2.toVector.sortBy(frequency => frequency._2).reverse"
   ]
  },
  {
   "cell_type": "code",
   "execution_count": null,
   "metadata": {},
   "outputs": [],
   "source": [
    "val hadrianGrouped2 = AuthHead2.filter(_.contains(\"hadrian\"))\n",
    "val hadrianSumVector2 = hadrianGrouped2.flatten\n",
    "val hadrianRegrouped2 = hadrianSumVector2.groupBy(word => word)\n",
    "val hadrianCount2 = hadrianRegrouped2.map{ case (a, v) => (a, v.size) } "
   ]
  },
  {
   "cell_type": "code",
   "execution_count": null,
   "metadata": {},
   "outputs": [],
   "source": [
    "val hadrian2 = hadrianCount2.toVector.sortBy(frequency => frequency._2).reverse"
   ]
  }
 ],
 "metadata": {
  "kernelspec": {
   "display_name": "Scala (2.12)",
   "language": "scala",
   "name": "scala212"
  },
  "language_info": {
   "codemirror_mode": "text/x-scala",
   "file_extension": ".scala",
   "mimetype": "text/x-scala",
   "name": "scala",
   "nbconvert_exporter": "script",
   "version": "2.12.10"
  }
 },
 "nbformat": 4,
 "nbformat_minor": 4
}
