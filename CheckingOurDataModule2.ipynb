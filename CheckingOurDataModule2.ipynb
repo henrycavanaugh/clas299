{
 "cells": [
  {
   "cell_type": "code",
   "execution_count": 1,
   "metadata": {},
   "outputs": [
    {
     "data": {
      "text/plain": [
       "\u001b[32mimport \u001b[39m\u001b[36mscala.io.Source\n",
       "\u001b[39m\n",
       "\u001b[36mpaintersCex\u001b[39m: \u001b[32mString\u001b[39m = \u001b[32m\"https://raw.githubusercontent.com/henrycavanaugh/clas299/master/painters.cex\"\u001b[39m"
      ]
     },
     "execution_count": 1,
     "metadata": {},
     "output_type": "execute_result"
    }
   ],
   "source": [
    "import scala.io.Source\n",
    "val paintersCex = \"https://raw.githubusercontent.com/henrycavanaugh/clas299/master/painters.cex\""
   ]
  },
  {
   "cell_type": "code",
   "execution_count": 2,
   "metadata": {},
   "outputs": [
    {
     "data": {
      "text/plain": [
       "\u001b[36mlines\u001b[39m: \u001b[32mVector\u001b[39m[\u001b[32mString\u001b[39m] = \u001b[33mVector\u001b[39m(\n",
       "  \u001b[32m\"painter#beazley#museumID#shape#findSpot#subject#pleiades\"\u001b[39m,\n",
       "  \u001b[32m\"Hypsis#1#Munich 2423#Hydriai#Vulci#Amazons. On shoulder, chairiot, and two boys on horseback#413393\"\u001b[39m,\n",
       "  \u001b[32m\"Hypsis#2#Munich 2423#Hydriai#Vulci#Woman at fountain#413393\"\u001b[39m,\n",
       "  \u001b[32m\"The Dikaios Painter#1#Vienna, Univ., 631 b#Amphorae#Orvieto#A, Apollo with Artemis and Leto. B, arming.#na\"\u001b[39m,\n",
       "  \u001b[32m\"The Dikaios Painter#2#London E 255#Amphorae#Vulci#A, Herakles and Apollo: The struggle for the tripod. B, warrior leaving home#413393\"\u001b[39m,\n",
       "  \u001b[32m\"The Dikaios Painter#3#London E 254#Amphorae#Vulci#A, warrior leaving home. B, citharode#413393\"\u001b[39m,\n",
       "  \u001b[32m\"The Dikaios Painter#4#Louvre G 45#Amphorae#unknown#A, youths and boys. B, warriors setting out#na\"\u001b[39m,\n",
       "  \u001b[32m\"The Dikaios Painter#5#Cab M\\u00e9d. 387#Krater#Tarquinia#Komos (males and naked women)#na\"\u001b[39m,\n",
       "  \u001b[32m\"The Dikaios Painter#6#London E 767#Psykter#Vulci#A, two baldheads preceded by a boy. B, two men, one of them playing the flute#413393\"\u001b[39m,\n",
       "  \u001b[32m\"The Dikaios Painter#7#Brussels R 351#Hydria#Vulci#Symposion (love-making)#413393\"\u001b[39m,\n",
       "  \u001b[32m\"Near The Dikaios Painter#1#Louvre G 51#Hydriai#unknown#Komos (woman making water and youth playing the flute)#na\"\u001b[39m,\n",
       "  \u001b[32m\"Near The Dikaios Painter#2#Munich#Hydriai#Athens#Archer#579885\"\u001b[39m,\n",
       "  \u001b[32m\"Near The Dikaios Painter#3#Athens Acr. 790#Fragment of a pot#Athens#Youth#579885\"\u001b[39m,\n",
       "  \u001b[32m\"The Pezzino Group#1#Leyden PC 85#Amphora#Vulci#A, heroes quarrelling. B, Dionysos and maenads#413393\"\u001b[39m,\n",
       "  \u001b[32m\"The Pezzino Group#2#Agrigento#Calyx-krater#Agringento#A, warriors lifting the body of a dead hero. B, komos#na\"\u001b[39m,\n",
       "  \u001b[32m\"The Pezzino Group#3#Munich 2420#Hydria#Vulci#Athletes. On shoulder, chariot harnessing#413393\"\u001b[39m,\n",
       "  \u001b[32m\"The Pezzino Group#4#Naples Stg. 5#Cup#Etruria#A, Dionysos with satyrs and maenads. B, komos#413122\"\u001b[39m,\n",
       "  \u001b[32m\"The Pioneer Group: Sundry#1#Istanbul#Calyx-krater#Xanthos#Men courting boys#536144\"\u001b[39m,\n",
       "  \u001b[32m\"The Pioneer Group: Sundry#2#Bohn 143a#Calyx-krater#Tarquinia/Vulci (?)#Warrior mounting chariot, with archer and warrior#na or 413393\"\u001b[39m,\n",
       "  \u001b[32m\"The Pioneer Group: Sundry#3#Oxford 1928. 504#Calyx-krater#unknown#Chariot, with the driver's hand, a warrior, and an archer#na\"\u001b[39m,\n",
       "  \u001b[32m\"The Pioneer Group: Sundry#4#Florence PD 411#Calyx-krater#Gela#Frontal face an\u001b[39m..."
      ]
     },
     "execution_count": 2,
     "metadata": {},
     "output_type": "execute_result"
    }
   ],
   "source": [
    "val lines = Source.fromURL(paintersCex).getLines.toVector"
   ]
  },
  {
   "cell_type": "code",
   "execution_count": 3,
   "metadata": {},
   "outputs": [
    {
     "data": {
      "text/plain": [
       "\u001b[36mres2\u001b[39m: \u001b[32mString\u001b[39m = \u001b[32m\"painter#beazley#museumID#shape#findSpot#subject#pleiades\"\u001b[39m"
      ]
     },
     "execution_count": 3,
     "metadata": {},
     "output_type": "execute_result"
    }
   ],
   "source": [
    "lines.head"
   ]
  },
  {
   "cell_type": "code",
   "execution_count": 4,
   "metadata": {},
   "outputs": [
    {
     "data": {
      "text/plain": [
       "\u001b[36mdata\u001b[39m: \u001b[32mVector\u001b[39m[\u001b[32mVector\u001b[39m[\u001b[32mString\u001b[39m]] = \u001b[33mVector\u001b[39m(\n",
       "  \u001b[33mVector\u001b[39m(\n",
       "    \u001b[32m\"Hypsis\"\u001b[39m,\n",
       "    \u001b[32m\"1\"\u001b[39m,\n",
       "    \u001b[32m\"Munich 2423\"\u001b[39m,\n",
       "    \u001b[32m\"Hydriai\"\u001b[39m,\n",
       "    \u001b[32m\"Vulci\"\u001b[39m,\n",
       "    \u001b[32m\"Amazons. On shoulder, chairiot, and two boys on horseback\"\u001b[39m,\n",
       "    \u001b[32m\"413393\"\u001b[39m\n",
       "  ),\n",
       "  \u001b[33mVector\u001b[39m(\n",
       "    \u001b[32m\"Hypsis\"\u001b[39m,\n",
       "    \u001b[32m\"2\"\u001b[39m,\n",
       "    \u001b[32m\"Munich 2423\"\u001b[39m,\n",
       "    \u001b[32m\"Hydriai\"\u001b[39m,\n",
       "    \u001b[32m\"Vulci\"\u001b[39m,\n",
       "    \u001b[32m\"Woman at fountain\"\u001b[39m,\n",
       "    \u001b[32m\"413393\"\u001b[39m\n",
       "  ),\n",
       "  \u001b[33mVector\u001b[39m(\n",
       "    \u001b[32m\"The Dikaios Painter\"\u001b[39m,\n",
       "    \u001b[32m\"1\"\u001b[39m,\n",
       "    \u001b[32m\"Vienna, Univ., 631 b\"\u001b[39m,\n",
       "    \u001b[32m\"Amphorae\"\u001b[39m,\n",
       "    \u001b[32m\"Orvieto\"\u001b[39m,\n",
       "    \u001b[32m\"A, Apollo with Artemis and Leto. B, arming.\"\u001b[39m,\n",
       "    \u001b[32m\"na\"\u001b[39m\n",
       "  ),\n",
       "  \u001b[33mVector\u001b[39m(\n",
       "    \u001b[32m\"The Dikaios Painter\"\u001b[39m,\n",
       "    \u001b[32m\"2\"\u001b[39m,\n",
       "    \u001b[32m\"London E 255\"\u001b[39m,\n",
       "    \u001b[32m\"Amphorae\"\u001b[39m,\n",
       "    \u001b[32m\"Vulci\"\u001b[39m,\n",
       "    \u001b[32m\"A, Herakles and Apollo: The struggle for the tripod. B, warrior leaving home\"\u001b[39m,\n",
       "    \u001b[32m\"413393\"\u001b[39m\n",
       "  ),\n",
       "  \u001b[33mVector\u001b[39m(\n",
       "..."
      ]
     },
     "execution_count": 4,
     "metadata": {},
     "output_type": "execute_result"
    }
   ],
   "source": [
    "val data = lines.tail.map(lin => lin.split(\"#\").toVector)"
   ]
  },
  {
   "cell_type": "code",
   "execution_count": 5,
   "metadata": {},
   "outputs": [
    {
     "data": {
      "text/plain": [
       "\u001b[36mpainter\u001b[39m: \u001b[32mVector\u001b[39m[\u001b[32mString\u001b[39m] = \u001b[33mVector\u001b[39m(\n",
       "  \u001b[32m\"Hypsis\"\u001b[39m,\n",
       "  \u001b[32m\"Hypsis\"\u001b[39m,\n",
       "  \u001b[32m\"The Dikaios Painter\"\u001b[39m,\n",
       "  \u001b[32m\"The Dikaios Painter\"\u001b[39m,\n",
       "  \u001b[32m\"The Dikaios Painter\"\u001b[39m,\n",
       "  \u001b[32m\"The Dikaios Painter\"\u001b[39m,\n",
       "  \u001b[32m\"The Dikaios Painter\"\u001b[39m,\n",
       "  \u001b[32m\"The Dikaios Painter\"\u001b[39m,\n",
       "  \u001b[32m\"The Dikaios Painter\"\u001b[39m,\n",
       "  \u001b[32m\"Near The Dikaios Painter\"\u001b[39m,\n",
       "  \u001b[32m\"Near The Dikaios Painter\"\u001b[39m,\n",
       "  \u001b[32m\"Near The Dikaios Painter\"\u001b[39m,\n",
       "  \u001b[32m\"The Pezzino Group\"\u001b[39m,\n",
       "  \u001b[32m\"The Pezzino Group\"\u001b[39m,\n",
       "  \u001b[32m\"The Pezzino Group\"\u001b[39m,\n",
       "  \u001b[32m\"The Pezzino Group\"\u001b[39m,\n",
       "  \u001b[32m\"The Pioneer Group: Sundry\"\u001b[39m,\n",
       "  \u001b[32m\"The Pioneer Group: Sundry\"\u001b[39m,\n",
       "  \u001b[32m\"The Pioneer Group: Sundry\"\u001b[39m,\n",
       "  \u001b[32m\"The Pioneer Group: Sundry\"\u001b[39m,\n",
       "  \u001b[32m\"The Pioneer Group: Sundry\"\u001b[39m,\n",
       "  \u001b[32m\"The Pioneer Group: Sundry\"\u001b[39m,\n",
       "  \u001b[32m\"The Pioneer Group: Sundry\"\u001b[39m,\n",
       "  \u001b[32m\"The Pioneer Group: Sundry\"\u001b[39m,\n",
       "  \u001b[32m\"The Pioneer Group: Sundry\"\u001b[39m,\n",
       "  \u001b[32m\"The Pioneer Group: Sundry\"\u001b[39m,\n",
       "  \u001b[32m\"The Pioneer Group: Sundry\"\u001b[39m,\n",
       "  \u001b[32m\"The Pioneer Group: Sundry\"\u001b[39m,\n",
       "  \u001b[32m\"The Pioneer Group: Sundry\"\u001b[39m,\n",
       "  \u001b[32m\"The Pioneer Group: Sundry\"\u001b[39m,\n",
       "  \u001b[32m\"The Pioneer Group: Sundry\"\u001b[39m,\n",
       "  \u001b[32m\"The Pioneer Group: Sundry\"\u001b[39m,\n",
       "  \u001b[32m\"The Pioneer Group: Sundry\"\u001b[39m,\n",
       "  \u001b[32m\"The Pioneer Group: Sundry\"\u001b[39m,\n",
       "  \u001b[32m\"The Pioneer Group: Sundry\"\u001b[39m,\n",
       "  \u001b[32m\"The Pioneer Group: Sundry\"\u001b[39m,\n",
       "  \u001b[32m\"The Pioneer Group: Unknown\"\u001b[39m,\n",
       "  \u001b[32m\"The Pioneer Group: Unknown\"\u001b[39m,\n",
       "...\n",
       "\u001b[36mbeazley\u001b[39m: \u001b[32mVector\u001b[39m[\u001b[32mString\u001b[39m] = \u001b[33mVector\u001b[39m(\n",
       "  \u001b[32m\"1\"\u001b[39m,\n",
       "  \u001b[32m\"2\"\u001b[39m,\n",
       "  \u001b[32m\"1\"\u001b[39m,\n",
       "  \u001b[32m\"2\"\u001b[39m,\n",
       "  \u001b[32m\"3\"\u001b[39m,\n",
       "  \u001b[32m\"4\"\u001b[39m,\n",
       "  \u001b[32m\"5\"\u001b[39m,\n",
       "  \u001b[32m\"6\"\u001b[39m,\n",
       "  \u001b[32m\"7\"\u001b[39m,\n",
       "  \u001b[32m\"1\"\u001b[39m,\n",
       "  \u001b[32m\"2\"\u001b[39m,\n",
       "  \u001b[32m\"3\"\u001b[39m,\n",
       "  \u001b[32m\"1\"\u001b[39m,\n",
       "  \u001b[32m\"2\"\u001b[39m,\n",
       "  \u001b[32m\"3\"\u001b[39m,\n",
       "  \u001b[32m\"4\"\u001b[39m,\n",
       "  \u001b[32m\"1\"\u001b[39m,\n",
       "  \u001b[32m\"2\"\u001b[39m,\n",
       "  \u001b[32m\"3\"\u001b[39m,\n",
       "  \u001b[32m\"4\"\u001b[39m,\n",
       "  \u001b[32m\"5\"\u001b[39m,\n",
       "  \u001b[32m\"6\"\u001b[39m,\n",
       "  \u001b[32m\"7\"\u001b[39m,\n",
       "  \u001b[32m\"7 bis\"\u001b[39m,\n",
       "  \u001b[32m\"8\"\u001b[39m,\n",
       "  \u001b[32m\"9\"\u001b[39m,\n",
       "  \u001b[32m\"10\"\u001b[39m,\n",
       "  \u001b[32m\"11\"\u001b[39m,\n",
       "  \u001b[32m\"12\"\u001b[39m,\n",
       "  \u001b[32m\"13\"\u001b[39m,\n",
       "  \u001b[32m\"14\"\u001b[39m,\n",
       "  \u001b[32m\"15\"\u001b[39m,\n",
       "  \u001b[32m\"16\"\u001b[39m,\n",
       "  \u001b[32m\"17\"\u001b[39m,\n",
       "  \u001b[32m\"18\"\u001b[39m,\n",
       "  \u001b[32m\"19\"\u001b[39m,\n",
       "  \u001b[32m\"1\"\u001b[39m,\n",
       "  \u001b[32m\"2\"\u001b[39m,\n",
       "...\n",
       "\u001b[36mmuseumID\u001b[39m: \u001b[32mVector\u001b[39m[\u001b[32mString\u001b[39m] = \u001b[33mVector\u001b[39m(\n",
       "  \u001b[32m\"Munich 2423\"\u001b[39m,\n",
       "  \u001b[32m\"Munich 2423\"\u001b[39m,\n",
       "  \u001b[32m\"Vienna, Univ., 631 b\"\u001b[39m,\n",
       "  \u001b[32m\"London E 255\"\u001b[39m,\n",
       "  \u001b[32m\"London E 254\"\u001b[39m,\n",
       "  \u001b[32m\"Louvre G 45\"\u001b[39m,\n",
       "  \u001b[32m\"Cab M\\u00e9d. 387\"\u001b[39m,\n",
       "  \u001b[32m\"London E 767\"\u001b[39m,\n",
       "  \u001b[32m\"Brussels R 351\"\u001b[39m,\n",
       "  \u001b[32m\"Louvre G 51\"\u001b[39m,\n",
       "  \u001b[32m\"Munich\"\u001b[39m,\n",
       "  \u001b[32m\"Athens Acr. 790\"\u001b[39m,\n",
       "  \u001b[32m\"Leyden PC 85\"\u001b[39m,\n",
       "  \u001b[32m\"Agrigento\"\u001b[39m,\n",
       "  \u001b[32m\"Munich 2420\"\u001b[39m,\n",
       "  \u001b[32m\"Naples Stg. 5\"\u001b[39m,\n",
       "  \u001b[32m\"Istanbul\"\u001b[39m,\n",
       "  \u001b[32m\"Bohn 143a\"\u001b[39m,\n",
       "  \u001b[32m\"Oxford 1928. 504\"\u001b[39m,\n",
       "  \u001b[32m\"Florence PD 411\"\u001b[39m,\n",
       "  \u001b[32m\"Athens, Agora 22208\"\u001b[39m,\n",
       "  \u001b[32m\"Gela\"\u001b[39m,\n",
       "  \u001b[32m\"Taranto\"\u001b[39m,\n",
       "  \u001b[32m\"Brussels A 3581\"\u001b[39m,\n",
       "  \u001b[32m\"Louvre G 41\"\u001b[39m,\n",
       "  \u001b[32m\"Philadelphia Market, Florence I B 15\"\u001b[39m,\n",
       "  \u001b[32m\"Taranto\"\u001b[39m,\n",
       "  \u001b[32m\"Roman Market\"\u001b[39m,\n",
       "  \u001b[32m\"Taranto\"\u001b[39m,\n",
       "  \u001b[32m\"Arleshiem\"\u001b[39m,\n",
       "  \u001b[32m\"New York 21.88.2\"\u001b[39m,\n",
       "  \u001b[32m\"Louvre G 49\"\u001b[39m,\n",
       "  \u001b[32m\"Leningrad(St. 1612)\"\u001b[39m,\n",
       "  \u001b[32m\"Vienna, Liechtenstein\"\u001b[39m,\n",
       "  \u001b[32m\"Louvre C 11090\"\u001b[39m,\n",
       "  \u001b[32m\"Athens Act 9\"\u001b[39m,\n",
       "  \u001b[32m\"Vienna, Unive., 631a\"\u001b[39m,\n",
       "  \u001b[32m\"London E 253\"\u001b[39m,\n",
       "...\n",
       "\u001b[36mshape\u001b[39m: \u001b[32mVector\u001b[39m[\u001b[32mString\u001b[39m] = \u001b[33mVector\u001b[39m(\n",
       "  \u001b[32m\"Hydriai\"\u001b[39m,\n",
       "  \u001b[32m\"Hydriai\"\u001b[39m,\n",
       "  \u001b[32m\"Amphorae\"\u001b[39m,\n",
       "  \u001b[32m\"Amphorae\"\u001b[39m,\n",
       "  \u001b[32m\"Amphorae\"\u001b[39m,\n",
       "  \u001b[32m\"Amphorae\"\u001b[39m,\n",
       "  \u001b[32m\"Krater\"\u001b[39m,\n",
       "  \u001b[32m\"Psykter\"\u001b[39m,\n",
       "  \u001b[32m\"Hydria\"\u001b[39m,\n",
       "  \u001b[32m\"Hydriai\"\u001b[39m,\n",
       "  \u001b[32m\"Hydriai\"\u001b[39m,\n",
       "  \u001b[32m\"Fragment of a pot\"\u001b[39m,\n",
       "  \u001b[32m\"Amphora\"\u001b[39m,\n",
       "  \u001b[32m\"Calyx-krater\"\u001b[39m,\n",
       "  \u001b[32m\"Hydria\"\u001b[39m,\n",
       "  \u001b[32m\"Cup\"\u001b[39m,\n",
       "  \u001b[32m\"Calyx-krater\"\u001b[39m,\n",
       "  \u001b[32m\"Calyx-krater\"\u001b[39m,\n",
       "  \u001b[32m\"Calyx-krater\"\u001b[39m,\n",
       "  \u001b[32m\"Calyx-krater\"\u001b[39m,\n",
       "  \u001b[32m\"Calyx-krater\"\u001b[39m,\n",
       "  \u001b[32m\"Calyx-krater\"\u001b[39m,\n",
       "  \u001b[32m\"Calyx-krater\"\u001b[39m,\n",
       "  \u001b[32m\"Amohora\"\u001b[39m,\n",
       "  \u001b[32m\"Hydriai\"\u001b[39m,\n",
       "  \u001b[32m\"Hydriai\"\u001b[39m,\n",
       "  \u001b[32m\"Hydriai\"\u001b[39m,\n",
       "  \u001b[32m\"Hydriai\"\u001b[39m,\n",
       "  \u001b[32m\"Hydriai\"\u001b[39m,\n",
       "  \u001b[32m\"Hydriai\"\u001b[39m,\n",
       "  \u001b[32m\"unknown\"\u001b[39m,\n",
       "  \u001b[32m\"Hydriai\"\u001b[39m,\n",
       "  \u001b[32m\"Hydriai\"\u001b[39m,\n",
       "  \u001b[32m\"Hydriai\"\u001b[39m,\n",
       "  \u001b[32m\"Fragment\"\u001b[39m,\n",
       "  \u001b[32m\"Plate\"\u001b[39m,\n",
       "  \u001b[32m\"Amphorae\"\u001b[39m,\n",
       "  \u001b[32m\"Amphorae\"\u001b[39m,\n",
       "...\n",
       "\u001b[36mfindSpot\u001b[39m: \u001b[32mVector\u001b[39m[\u001b[32mString\u001b[39m] = \u001b[33mVector\u001b[39m(\n",
       "  \u001b[32m\"Vulci\"\u001b[39m,\n",
       "  \u001b[32m\"Vulci\"\u001b[39m,\n",
       "  \u001b[32m\"Orvieto\"\u001b[39m,\n",
       "  \u001b[32m\"Vulci\"\u001b[39m,\n",
       "  \u001b[32m\"Vulci\"\u001b[39m,\n",
       "  \u001b[32m\"unknown\"\u001b[39m,\n",
       "  \u001b[32m\"Tarquinia\"\u001b[39m,\n",
       "  \u001b[32m\"Vulci\"\u001b[39m,\n",
       "  \u001b[32m\"Vulci\"\u001b[39m,\n",
       "  \u001b[32m\"unknown\"\u001b[39m,\n",
       "  \u001b[32m\"Athens\"\u001b[39m,\n",
       "  \u001b[32m\"Athens\"\u001b[39m,\n",
       "  \u001b[32m\"Vulci\"\u001b[39m,\n",
       "  \u001b[32m\"Agringento\"\u001b[39m,\n",
       "  \u001b[32m\"Vulci\"\u001b[39m,\n",
       "  \u001b[32m\"Etruria\"\u001b[39m,\n",
       "  \u001b[32m\"Xanthos\"\u001b[39m,\n",
       "  \u001b[32m\"Tarquinia/Vulci (?)\"\u001b[39m,\n",
       "  \u001b[32m\"unknown\"\u001b[39m,\n",
       "  \u001b[32m\"Gela\"\u001b[39m,\n",
       "  \u001b[32m\"Athens\"\u001b[39m,\n",
       "  \u001b[32m\"Gela\"\u001b[39m,\n",
       "  \u001b[32m\"Taranto\"\u001b[39m,\n",
       "  \u001b[32m\"unknown\"\u001b[39m,\n",
       "  \u001b[32m\"Vulci\"\u001b[39m,\n",
       "  \u001b[32m\"unknown\"\u001b[39m,\n",
       "  \u001b[32m\"Locri\"\u001b[39m,\n",
       "  \u001b[32m\"unknown\"\u001b[39m,\n",
       "  \u001b[32m\"Taranto\"\u001b[39m,\n",
       "  \u001b[32m\"unknown\"\u001b[39m,\n",
       "  \u001b[32m\"unknown\"\u001b[39m,\n",
       "  \u001b[32m\"unknown\"\u001b[39m,\n",
       "  \u001b[32m\"unkown\"\u001b[39m,\n",
       "  \u001b[32m\"unknown\"\u001b[39m,\n",
       "  \u001b[32m\"unknown\"\u001b[39m,\n",
       "  \u001b[32m\"Athens\"\u001b[39m,\n",
       "  \u001b[32m\"unknown\"\u001b[39m,\n",
       "  \u001b[32m\"Vulci\"\u001b[39m,\n",
       "...\n",
       "\u001b[36msubject\u001b[39m: \u001b[32mVector\u001b[39m[\u001b[32mString\u001b[39m] = \u001b[33mVector\u001b[39m(\n",
       "  \u001b[32m\"Amazons. On shoulder, chairiot, and two boys on horseback\"\u001b[39m,\n",
       "  \u001b[32m\"Woman at fountain\"\u001b[39m,\n",
       "  \u001b[32m\"A, Apollo with Artemis and Leto. B, arming.\"\u001b[39m,\n",
       "  \u001b[32m\"A, Herakles and Apollo: The struggle for the tripod. B, warrior leaving home\"\u001b[39m,\n",
       "  \u001b[32m\"A, warrior leaving home. B, citharode\"\u001b[39m,\n",
       "  \u001b[32m\"A, youths and boys. B, warriors setting out\"\u001b[39m,\n",
       "  \u001b[32m\"Komos (males and naked women)\"\u001b[39m,\n",
       "  \u001b[32m\"A, two baldheads preceded by a boy. B, two men, one of them playing the flute\"\u001b[39m,\n",
       "  \u001b[32m\"Symposion (love-making)\"\u001b[39m,\n",
       "  \u001b[32m\"Komos (woman making water and youth playing the flute)\"\u001b[39m,\n",
       "  \u001b[32m\"Archer\"\u001b[39m,\n",
       "  \u001b[32m\"Youth\"\u001b[39m,\n",
       "  \u001b[32m\"A, heroes quarrelling. B, Dionysos and maenads\"\u001b[39m,\n",
       "  \u001b[32m\"A, warriors lifting the body of a dead hero. B, komos\"\u001b[39m,\n",
       "  \u001b[32m\"Athletes. On shoulder, chariot harnessing\"\u001b[39m,\n",
       "  \u001b[32m\"A, Dionysos with satyrs and maenads. B, komos\"\u001b[39m,\n",
       "  \u001b[32m\"Men courting boys\"\u001b[39m,\n",
       "  \u001b[32m\"Warrior mounting chariot, with archer and warrior\"\u001b[39m,\n",
       "  \u001b[32m\"Chariot, with the driver's hand, a warrior, and an archer\"\u001b[39m,\n",
       "  \u001b[32m\"Frontal face and right breast of a man, satyr?\"\u001b[39m,\n",
       "  \u001b[32m\"Head and shoulder of a youth\"\u001b[39m,\n",
       "  \u001b[32m\"Symposion (middle of a male reclining to left)\"\u001b[39m,\n",
       "  \u001b[32m\"White ground, leg and tail of satyr running right, middle of a maenad moving left, shank, with foot of a male, satyr?\"\u001b[39m,\n",
       "  \u001b[32m\"A, wrestlers. B, two athletes\"\u001b[39m,\n",
       "  \u001b[32m\"Dionysos with Ariadne, Poseidon with Amphitrie, Hermes. On shoulder, chariot, and warriors making ready\"\u001b[39m,\n",
       "  \u001b[32m\"Herakles with Athena and Dionysos. On shoulder, symposion\"\u001b[39m,\n",
       "  \u001b[32m\"Warrior leaving home, woman to right with phiale, young boy to right, feet of warrior and dog to lefts\"\u001b[39m,\n",
       "  \u001b[32m\"Peleus and Thetis. On shoulder, komos\"\u001b[39m,\n",
       "  \u001b[32m\"Woman, and youth at fountain. On shoulder, youth at fountain\"\u001b[39m,\n",
       "  \u001b[32m\"Herakles and the lion\"\u001b[39m,\n",
       "  \u001b[32m\"Pyrrhic (??)\"\u001b[39m,\n",
       "  \u001b[32m\"Komos(man and youth, dancing, woman playing flute)\"\u001b[39m,\n",
       "  \u001b[32m\"Women and man at fountain; one woman and man have hydriai; other woman naked \u001b[39m...\n",
       "\u001b[36mpleiades\u001b[39m: \u001b[32mVector\u001b[39m[\u001b[32mString\u001b[39m] = \u001b[33mVector\u001b[39m(\n",
       "  \u001b[32m\"413393\"\u001b[39m,\n",
       "  \u001b[32m\"413393\"\u001b[39m,\n",
       "  \u001b[32m\"na\"\u001b[39m,\n",
       "  \u001b[32m\"413393\"\u001b[39m,\n",
       "  \u001b[32m\"413393\"\u001b[39m,\n",
       "  \u001b[32m\"na\"\u001b[39m,\n",
       "  \u001b[32m\"na\"\u001b[39m,\n",
       "  \u001b[32m\"413393\"\u001b[39m,\n",
       "  \u001b[32m\"413393\"\u001b[39m,\n",
       "  \u001b[32m\"na\"\u001b[39m,\n",
       "  \u001b[32m\"579885\"\u001b[39m,\n",
       "  \u001b[32m\"579885\"\u001b[39m,\n",
       "  \u001b[32m\"413393\"\u001b[39m,\n",
       "  \u001b[32m\"na\"\u001b[39m,\n",
       "  \u001b[32m\"413393\"\u001b[39m,\n",
       "  \u001b[32m\"413122\"\u001b[39m,\n",
       "  \u001b[32m\"536144\"\u001b[39m,\n",
       "  \u001b[32m\"na or 413393\"\u001b[39m,\n",
       "  \u001b[32m\"na\"\u001b[39m,\n",
       "  \u001b[32m\"462214\"\u001b[39m,\n",
       "  \u001b[32m\"579885\"\u001b[39m,\n",
       "  \u001b[32m\"462214\"\u001b[39m,\n",
       "  \u001b[32m\"na\"\u001b[39m,\n",
       "  \u001b[32m\"na\"\u001b[39m,\n",
       "  \u001b[32m\"413393\"\u001b[39m,\n",
       "  \u001b[32m\"na\"\u001b[39m,\n",
       "  \u001b[32m\"344424\"\u001b[39m,\n",
       "  \u001b[32m\"na\"\u001b[39m,\n",
       "  \u001b[32m\"na\"\u001b[39m,\n",
       "  \u001b[32m\"na\"\u001b[39m,\n",
       "  \u001b[32m\"na\"\u001b[39m,\n",
       "  \u001b[32m\"NA\"\u001b[39m,\n",
       "  \u001b[32m\"NA\"\u001b[39m,\n",
       "  \u001b[32m\"NA\"\u001b[39m,\n",
       "  \u001b[32m\"NA\"\u001b[39m,\n",
       "  \u001b[32m\"579885\"\u001b[39m,\n",
       "  \u001b[32m\"NA\"\u001b[39m,\n",
       "  \u001b[32m\"413393\"\u001b[39m,\n",
       "..."
      ]
     },
     "execution_count": 5,
     "metadata": {},
     "output_type": "execute_result"
    }
   ],
   "source": [
    "val painter = data.map(columns => columns(0))\n",
    "val beazley = data.map(columns => columns(1))\n",
    "val museumID = data.map(columns => columns(2))\n",
    "val shape = data.map(columns => columns(3))\n",
    "val findSpot = data.map(columns => columns(4))\n",
    "val subject = data.map(columns => columns(5))\n",
    "val pleiades = data.map(columns => columns(6))"
   ]
  },
  {
   "cell_type": "code",
   "execution_count": 6,
   "metadata": {},
   "outputs": [
    {
     "data": {
      "text/plain": [
       "\u001b[36mres5\u001b[39m: \u001b[32mVector\u001b[39m[\u001b[32mString\u001b[39m] = \u001b[33mVector\u001b[39m(\n",
       "  \u001b[32m\"Hypsis\"\u001b[39m,\n",
       "  \u001b[32m\"Near The Dikaios Painter\"\u001b[39m,\n",
       "  \u001b[32m\"The Dikaios Painter\"\u001b[39m,\n",
       "  \u001b[32m\"The Gales Painter\"\u001b[39m,\n",
       "  \u001b[32m\"The Pezzino Group\"\u001b[39m,\n",
       "  \u001b[32m\"The Pioneer Group: Sundry\"\u001b[39m,\n",
       "  \u001b[32m\"The Pioneer Group: Unknown\"\u001b[39m,\n",
       "  \u001b[32m\"The Pythokles Painter\"\u001b[39m\n",
       ")"
      ]
     },
     "execution_count": 6,
     "metadata": {},
     "output_type": "execute_result"
    }
   ],
   "source": [
    "painter.distinct.sorted\n",
    "\n",
    "//everything seems to be good, with no strange duplicates"
   ]
  },
  {
   "cell_type": "code",
   "execution_count": 7,
   "metadata": {},
   "outputs": [
    {
     "data": {
      "text/plain": [
       "\u001b[36mres6\u001b[39m: \u001b[32mVector\u001b[39m[\u001b[32mString\u001b[39m] = \u001b[33mVector\u001b[39m(\n",
       "  \u001b[32m\"1\"\u001b[39m,\n",
       "  \u001b[32m\"10\"\u001b[39m,\n",
       "  \u001b[32m\"11\"\u001b[39m,\n",
       "  \u001b[32m\"12\"\u001b[39m,\n",
       "  \u001b[32m\"13\"\u001b[39m,\n",
       "  \u001b[32m\"14\"\u001b[39m,\n",
       "  \u001b[32m\"15\"\u001b[39m,\n",
       "  \u001b[32m\"16\"\u001b[39m,\n",
       "  \u001b[32m\"17\"\u001b[39m,\n",
       "  \u001b[32m\"18\"\u001b[39m,\n",
       "  \u001b[32m\"19\"\u001b[39m,\n",
       "  \u001b[32m\"2\"\u001b[39m,\n",
       "  \u001b[32m\"3\"\u001b[39m,\n",
       "  \u001b[32m\"4\"\u001b[39m,\n",
       "  \u001b[32m\"5\"\u001b[39m,\n",
       "  \u001b[32m\"6\"\u001b[39m,\n",
       "  \u001b[32m\"7\"\u001b[39m,\n",
       "  \u001b[32m\"7 bis\"\u001b[39m,\n",
       "  \u001b[32m\"8\"\u001b[39m,\n",
       "  \u001b[32m\"9\"\u001b[39m,\n",
       "  \u001b[32m\"a\"\u001b[39m,\n",
       "  \u001b[32m\"na\"\u001b[39m\n",
       ")"
      ]
     },
     "execution_count": 7,
     "metadata": {},
     "output_type": "execute_result"
    }
   ],
   "source": [
    "beazley.distinct.sorted\n",
    "\n",
    "//everything seems to look about as expected, other than the one entry labeled \"a\". This is likely supposed to say \"na\" which is an easy fix."
   ]
  },
  {
   "cell_type": "code",
   "execution_count": 8,
   "metadata": {},
   "outputs": [
    {
     "data": {
      "text/plain": [
       "\u001b[36mres7\u001b[39m: \u001b[32mVector\u001b[39m[\u001b[32mString\u001b[39m] = \u001b[33mVector\u001b[39m(\n",
       "  \u001b[32m\"Amohora\"\u001b[39m,\n",
       "  \u001b[32m\"Amphora\"\u001b[39m,\n",
       "  \u001b[32m\"Amphorae\"\u001b[39m,\n",
       "  \u001b[32m\"Calyx-krater\"\u001b[39m,\n",
       "  \u001b[32m\"Cup\"\u001b[39m,\n",
       "  \u001b[32m\"Fragment\"\u001b[39m,\n",
       "  \u001b[32m\"Fragment of a pot\"\u001b[39m,\n",
       "  \u001b[32m\"Hydria\"\u001b[39m,\n",
       "  \u001b[32m\"Hydriai\"\u001b[39m,\n",
       "  \u001b[32m\"Krater\"\u001b[39m,\n",
       "  \u001b[32m\"Lekythoi\"\u001b[39m,\n",
       "  \u001b[32m\"Panathenaic Amphorae\"\u001b[39m,\n",
       "  \u001b[32m\"Plate\"\u001b[39m,\n",
       "  \u001b[32m\"Psykter\"\u001b[39m,\n",
       "  \u001b[32m\"Skyphos\"\u001b[39m,\n",
       "  \u001b[32m\"unknown\"\u001b[39m\n",
       ")"
      ]
     },
     "execution_count": 8,
     "metadata": {},
     "output_type": "execute_result"
    }
   ],
   "source": [
    "shape.distinct.sorted\n",
    "\n",
    "//\"Amohora\" is clearly a mistaken attempt at typing \"Amphora\". Everything else seems to be ok."
   ]
  },
  {
   "cell_type": "code",
   "execution_count": 9,
   "metadata": {},
   "outputs": [
    {
     "data": {
      "text/plain": [
       "\u001b[36mres8\u001b[39m: \u001b[32mVector\u001b[39m[\u001b[32mString\u001b[39m] = \u001b[33mVector\u001b[39m(\n",
       "  \u001b[32m\"Aegina\"\u001b[39m,\n",
       "  \u001b[32m\"Agringento\"\u001b[39m,\n",
       "  \u001b[32m\"Athens\"\u001b[39m,\n",
       "  \u001b[32m\"Cervetri\"\u001b[39m,\n",
       "  \u001b[32m\"Etruria\"\u001b[39m,\n",
       "  \u001b[32m\"Gela\"\u001b[39m,\n",
       "  \u001b[32m\"Locri\"\u001b[39m,\n",
       "  \u001b[32m\"Naucratis\"\u001b[39m,\n",
       "  \u001b[32m\"Orvieto\"\u001b[39m,\n",
       "  \u001b[32m\"Taranto\"\u001b[39m,\n",
       "  \u001b[32m\"Tarquinia\"\u001b[39m,\n",
       "  \u001b[32m\"Tarquinia/Vulci (?)\"\u001b[39m,\n",
       "  \u001b[32m\"Vulci\"\u001b[39m,\n",
       "  \u001b[32m\"Xanthos\"\u001b[39m,\n",
       "  \u001b[32m\"unknown\"\u001b[39m,\n",
       "  \u001b[32m\"unkown\"\u001b[39m\n",
       ")"
      ]
     },
     "execution_count": 9,
     "metadata": {},
     "output_type": "execute_result"
    }
   ],
   "source": [
    "findSpot.distinct.sorted\n",
    "\n",
    "//\"unkown\" is clearly meant to say \"unknown\". This is another easy thing to fix."
   ]
  },
  {
   "cell_type": "code",
   "execution_count": 10,
   "metadata": {},
   "outputs": [
    {
     "data": {
      "text/plain": [
       "\u001b[36mres9\u001b[39m: \u001b[32mVector\u001b[39m[\u001b[32mString\u001b[39m] = \u001b[33mVector\u001b[39m(\n",
       "  \u001b[32m\"A, Aeneas and Achises. B, Herakles and Apollo: the struggle for tripod.\"\u001b[39m,\n",
       "  \u001b[32m\"A, Apollo with Artemis and Leto. B, arming.\"\u001b[39m,\n",
       "  \u001b[32m\"A, Athena. B is lost.\"\u001b[39m,\n",
       "  \u001b[32m\"A, Athena; B, boxers.\"\u001b[39m,\n",
       "  \u001b[32m\"A, Dionysos with satyrs and maenads. B, komos\"\u001b[39m,\n",
       "  \u001b[32m\"A, Eos with the body of Memnon. B, Herakles and Apollo: the struggle for tripod.\"\u001b[39m,\n",
       "  \u001b[32m\"A, Herakles and Apollo: The struggle for the tripod. B, warrior leaving home\"\u001b[39m,\n",
       "  \u001b[32m\"A, heroes quarrelling. B, Dionysos and maenads\"\u001b[39m,\n",
       "  \u001b[32m\"A, two baldheads preceded by a boy. B, two men, one of them playing the flute\"\u001b[39m,\n",
       "  \u001b[32m\"A, warrior leaving home. B, citharode\"\u001b[39m,\n",
       "  \u001b[32m\"A, warriors lifting the body of a dead hero. B, komos\"\u001b[39m,\n",
       "  \u001b[32m\"A, wrestlers. B, two athletes\"\u001b[39m,\n",
       "  \u001b[32m\"A, youths and boys. B, warriors setting out\"\u001b[39m,\n",
       "  \u001b[32m\"A: dionysos with satyr and maenad, B: warrior with horse and archer\"\u001b[39m,\n",
       "  \u001b[32m\"Amazons. On shoulder, chairiot, and two boys on horseback\"\u001b[39m,\n",
       "  \u001b[32m\"Archer\"\u001b[39m,\n",
       "  \u001b[32m\"Athletes. On shoulder, chariot harnessing\"\u001b[39m,\n",
       "  \u001b[32m\"Chariot, with the driver's hand, a warrior, and an archer\"\u001b[39m,\n",
       "  \u001b[32m\"Cows led to sacrifice\"\u001b[39m,\n",
       "  \u001b[32m\"Dionysos with Ariadne, Poseidon with Amphitrie, Hermes. On shoulder, chariot, and warriors making ready\"\u001b[39m,\n",
       "  \u001b[32m\"Frontal face and right breast of a man, satyr?\"\u001b[39m,\n",
       "  \u001b[32m\"God and goddess side by side, seated\"\u001b[39m,\n",
       "  \u001b[32m\"Head and shoulder of a youth\"\u001b[39m,\n",
       "  \u001b[32m\"Herakles and the lion\"\u001b[39m,\n",
       "  \u001b[32m\"Herakles with Athena and Dionysos. On shoulder, symposion\"\u001b[39m,\n",
       "  \u001b[32m\"Komos (males and naked women)\"\u001b[39m,\n",
       "  \u001b[32m\"Komos (woman making water and youth playing the flute)\"\u001b[39m,\n",
       "  \u001b[32m\"Komos(Anacreon and friends)\"\u001b[39m,\n",
       "  \u001b[32m\"Komos(man and youth, dancing, woman playing flute)\"\u001b[39m,\n",
       "  \u001b[32m\"Men courting boys\"\u001b[39m,\n",
       "  \u001b[32m\"Peleus and Thetis. On shoulder, komos\"\u001b[39m,\n",
       "  \u001b[32m\"Pyrrhic (??)\"\u001b[39m,\n",
       "  \u001b[32m\"Right: arm, waist, buttocks of woman\"\u001b[39m,\n",
       "  \u001b[32m\"Symposion (love-making)\"\u001b[39m,\n",
       "..."
      ]
     },
     "execution_count": 10,
     "metadata": {},
     "output_type": "execute_result"
    }
   ],
   "source": [
    "subject.distinct.sorted\n",
    "\n",
    "//Slightly inconsistent formatting, but the main subjects are communicated in similar ways."
   ]
  },
  {
   "cell_type": "code",
   "execution_count": 11,
   "metadata": {},
   "outputs": [
    {
     "data": {
      "text/plain": [
       "\u001b[36mres10\u001b[39m: \u001b[32mVector\u001b[39m[\u001b[32mString\u001b[39m] = \u001b[33mVector\u001b[39m(\n",
       "  \u001b[32m\"344424\"\u001b[39m,\n",
       "  \u001b[32m\"413122\"\u001b[39m,\n",
       "  \u001b[32m\"413393\"\u001b[39m,\n",
       "  \u001b[32m\"422859\"\u001b[39m,\n",
       "  \u001b[32m\"462214\"\u001b[39m,\n",
       "  \u001b[32m\"462215\"\u001b[39m,\n",
       "  \u001b[32m\"536144\"\u001b[39m,\n",
       "  \u001b[32m\"57844\"\u001b[39m,\n",
       "  \u001b[32m\"579844\"\u001b[39m,\n",
       "  \u001b[32m\"579885\"\u001b[39m,\n",
       "  \u001b[32m\"727169\"\u001b[39m,\n",
       "  \u001b[32m\"NA\"\u001b[39m,\n",
       "  \u001b[32m\"na\"\u001b[39m,\n",
       "  \u001b[32m\"na or 413393\"\u001b[39m\n",
       ")"
      ]
     },
     "execution_count": 11,
     "metadata": {},
     "output_type": "execute_result"
    }
   ],
   "source": [
    "pleiades.distinct.sorted\n",
    "\n",
    "//capitalization differences in \"NA\" vs \"na\". This is not that big of an issue."
   ]
  },
  {
   "cell_type": "code",
   "execution_count": null,
   "metadata": {},
   "outputs": [],
   "source": [
    "//In general, everything seems to be fairly clean for notes taken through eyesight and typing. \n",
    "//There are some typos, and inconsistency in formatting, but these would not be hard to fix and\n",
    "//would not interfere with the data sets general use as they are small and few and far in between."
   ]
  }
 ],
 "metadata": {
  "kernelspec": {
   "display_name": "Scala (2.13)",
   "language": "scala",
   "name": "scala213"
  },
  "language_info": {
   "codemirror_mode": "text/x-scala",
   "file_extension": ".scala",
   "mimetype": "text/x-scala",
   "name": "scala",
   "nbconvert_exporter": "script",
   "version": "2.13.1"
  }
 },
 "nbformat": 4,
 "nbformat_minor": 4
}
